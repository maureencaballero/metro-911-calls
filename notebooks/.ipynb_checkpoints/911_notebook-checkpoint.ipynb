{
 "cells": [
  {
   "cell_type": "code",
   "execution_count": 1,
   "metadata": {},
   "outputs": [],
   "source": [
    "import pandas as pd\n",
    "import numpy as np\n",
    "import matplotlib.pyplot as plt\n",
    "import seaborn as sns"
   ]
  },
  {
   "cell_type": "code",
   "execution_count": 5,
   "metadata": {},
   "outputs": [],
   "source": [
    "tornado_911 = pd.read_csv( '../data/911_Phone_Calls_Tornado_030320.csv')\n",
    "derecho_911 = pd.read_csv('../data/911_Phone Calls_Derecho_050320 050420.csv')\n",
    "tornado_dispact = pd.read_csv('../data/Computer Aided Dispatch Data_Tornado Incidents 030320.csv', skiprows=2)\n",
    "derecho_dispatch = pd.read_csv('../data/Computer Aided Dispatch Data_Derecho Incidents 050320-050420.csv', skiprows=2)"
   ]
  },
  {
   "cell_type": "code",
   "execution_count": 6,
   "metadata": {},
   "outputs": [
    {
     "name": "stdout",
     "output_type": "stream",
     "text": [
      "     Seizure DateTime CallTypeId  ALI Latitude  ALI Longitude  \\\n",
      "0      5/3/2020 16:30  911 Calls     36.247802     -86.716847   \n",
      "1      5/3/2020 16:30  911 Calls     36.143108     -86.800621   \n",
      "2      5/3/2020 16:30  911 Calls     36.100516     -87.056329   \n",
      "3      5/3/2020 16:30  911 Calls     36.130021     -86.927819   \n",
      "4      5/3/2020 16:31  911 Calls     36.142380     -86.881882   \n",
      "...               ...        ...           ...            ...   \n",
      "1544    5/4/2020 0:18  911 Calls     36.131694     -86.770535   \n",
      "1545    5/4/2020 0:22  911 Calls     36.042237     -86.743455   \n",
      "1546    5/4/2020 0:25  911 Calls     36.077664     -86.655607   \n",
      "1547    5/4/2020 0:29  911 Calls     36.024706     -86.743562   \n",
      "1548    5/4/2020 0:29  911 Calls           NaN            NaN   \n",
      "\n",
      "                       Cell Tower Address  \n",
      "0                         WIRELESS CALLER  \n",
      "1                     1161 21ST AV S - SE  \n",
      "2                   8013 C MCCRORY LN - N  \n",
      "3                      5758 RIVER RD - SW  \n",
      "4                    3744B ANNEX AVE - SE  \n",
      "...                                   ...  \n",
      "1544         1823-C 12TH AV - SECTOR SE S  \n",
      "1545     5244-C EDMONSON PIKE - SECTOR SE  \n",
      "1546  2747-B MURFREESBORO PKE - SECTOR NW  \n",
      "1547               302 SUMMIT VIEW DR - E  \n",
      "1548                2014 QUAIL HOLLOW CIR  \n",
      "\n",
      "[1549 rows x 5 columns]\n"
     ]
    },
    {
     "data": {
      "text/plain": [
       "Seizure DateTime       object\n",
       "CallTypeId             object\n",
       "ALI Latitude          float64\n",
       "ALI Longitude         float64\n",
       "Cell Tower Address     object\n",
       "dtype: object"
      ]
     },
     "execution_count": 6,
     "metadata": {},
     "output_type": "execute_result"
    }
   ],
   "source": [
    "print(derecho_911)\n",
    "derecho_911.dtypes"
   ]
  },
  {
   "cell_type": "code",
   "execution_count": 7,
   "metadata": {},
   "outputs": [
    {
     "name": "stdout",
     "output_type": "stream",
     "text": [
      "    Seizure DateTime CallTypeId  ALI Latitude  ALI Longitude  \\\n",
      "0      3/3/2020 0:34  911 Calls     36.072708     -86.665779   \n",
      "1      3/3/2020 0:36  911 Calls     36.159634     -86.841904   \n",
      "2      3/3/2020 0:36  911 Calls     36.264153     -86.708862   \n",
      "3      3/3/2020 0:36  911 Calls           NaN            NaN   \n",
      "4      3/3/2020 0:36  911 Calls     36.233467     -86.721077   \n",
      "..               ...        ...           ...            ...   \n",
      "470    3/3/2020 4:54  911 Calls     36.142552     -86.635330   \n",
      "471    3/3/2020 4:54  911 Calls     36.189415     -86.813557   \n",
      "472    3/3/2020 4:55  911 Calls     36.223534     -86.757874   \n",
      "473    3/3/2020 4:56  911 Calls     36.168398     -86.783774   \n",
      "474    3/3/2020 4:58  911 Calls     36.276566     -86.799417   \n",
      "\n",
      "                    Cell Tower Address  \n",
      "0           620 Richards RD - N Sector  \n",
      "1               4507D KENTUCKY AV - SE  \n",
      "2             329 THELMA ST - S Sector  \n",
      "3                       526 FOUNDRY DR  \n",
      "4                 5007B RUSKIN AVE - N  \n",
      "..                                 ...  \n",
      "470                    WIRELESS CALLER  \n",
      "471                    WIRELESS CALLER  \n",
      "472                    WIRELESS CALLER  \n",
      "473  600 DR MARTIN L KING JR BLVD - NE  \n",
      "474             4884 LICKTON PIKE - SE  \n",
      "\n",
      "[475 rows x 5 columns]\n"
     ]
    }
   ],
   "source": [
    "print(tornado_911)"
   ]
  },
  {
   "cell_type": "code",
   "execution_count": null,
   "metadata": {},
   "outputs": [],
   "source": [
    "derecho_911['Seizure DateTime'] = pd.DatetimeIndex(derecho_911['Seizure DateTime'])\n",
    "derecho_plot = derecho_911.resample('15min', on='Seizure DateTime').CallTypeId.count()\n",
    "derecho_plot.plot()\n",
    "plt.show()"
   ]
  },
  {
   "cell_type": "code",
   "execution_count": null,
   "metadata": {},
   "outputs": [],
   "source": [
    "print(derecho_plot)"
   ]
  },
  {
   "cell_type": "code",
   "execution_count": null,
   "metadata": {},
   "outputs": [],
   "source": [
    "tornado_911['Seizure DateTime'] = pd.DatetimeIndex(tornado_911['Seizure DateTime'])\n",
    "tornado_plot = tornado_911.resample('30min', on='Seizure DateTime').CallTypeId.count()\n",
    "plt.plot(tornado_plot)\n",
    "plt.show()"
   ]
  },
  {
   "cell_type": "code",
   "execution_count": null,
   "metadata": {},
   "outputs": [],
   "source": []
  }
 ],
 "metadata": {
  "kernelspec": {
   "display_name": "Python 3",
   "language": "python",
   "name": "python3"
  },
  "language_info": {
   "codemirror_mode": {
    "name": "ipython",
    "version": 3
   },
   "file_extension": ".py",
   "mimetype": "text/x-python",
   "name": "python",
   "nbconvert_exporter": "python",
   "pygments_lexer": "ipython3",
   "version": "3.7.6"
  }
 },
 "nbformat": 4,
 "nbformat_minor": 4
}
