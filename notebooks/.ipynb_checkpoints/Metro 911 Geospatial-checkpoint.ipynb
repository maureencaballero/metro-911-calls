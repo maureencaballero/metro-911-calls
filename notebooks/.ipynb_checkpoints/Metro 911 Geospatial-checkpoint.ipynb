{
 "cells": [
  {
   "cell_type": "markdown",
   "metadata": {},
   "source": [
    "### Metro 911 Calls Geospatial"
   ]
  },
  {
   "cell_type": "code",
   "execution_count": 1,
   "metadata": {
    "scrolled": true
   },
   "outputs": [],
   "source": [
    "\n",
    "\n",
    "from shapely.geometry import Point\n",
    "import pandas as pd\n",
    "import geopandas as gpd\n",
    "import matplotlib.pyplot as plt\n",
    "import folium\n",
    "from folium.plugins import MarkerCluster\n",
    "from folium.plugins import FastMarkerCluster"
   ]
  },
  {
   "cell_type": "code",
   "execution_count": 2,
   "metadata": {},
   "outputs": [],
   "source": [
    "tornado_911 = pd.read_csv('../data/911_Phone_Calls_Tornado_030320.csv')\n",
    "derecho_911 = pd.read_csv('../data/911_Phone Calls_Derecho_050320 050420.csv')\n",
    "tornado_dispatch = pd.read_csv('../data/Computer Aided Dispatch Data_Tornado Incidents 030320.csv', skiprows=2)\n",
    "derecho_dispatch = pd.read_csv('../data/Computer Aided Dispatch Data_Derecho Incidents 050320-050420.csv', skiprows=2)\n",
    "\n"
   ]
  },
  {
   "cell_type": "code",
   "execution_count": 4,
   "metadata": {},
   "outputs": [
    {
     "name": "stdout",
     "output_type": "stream",
     "text": [
      "epsg:4326\n"
     ]
    },
    {
     "data": {
      "text/html": [
       "<div>\n",
       "<style scoped>\n",
       "    .dataframe tbody tr th:only-of-type {\n",
       "        vertical-align: middle;\n",
       "    }\n",
       "\n",
       "    .dataframe tbody tr th {\n",
       "        vertical-align: top;\n",
       "    }\n",
       "\n",
       "    .dataframe thead th {\n",
       "        text-align: right;\n",
       "    }\n",
       "</style>\n",
       "<table border=\"1\" class=\"dataframe\">\n",
       "  <thead>\n",
       "    <tr style=\"text-align: right;\">\n",
       "      <th></th>\n",
       "      <th>zip</th>\n",
       "      <th>objectid</th>\n",
       "      <th>po_name</th>\n",
       "      <th>shape_stlength</th>\n",
       "      <th>shape_starea</th>\n",
       "      <th>geometry</th>\n",
       "    </tr>\n",
       "  </thead>\n",
       "  <tbody>\n",
       "    <tr>\n",
       "      <th>0</th>\n",
       "      <td>37115</td>\n",
       "      <td>1</td>\n",
       "      <td>MADISON</td>\n",
       "      <td>178783.02488886821</td>\n",
       "      <td>596553400.57885742</td>\n",
       "      <td>MULTIPOLYGON (((-86.68725 36.31821, -86.68722 ...</td>\n",
       "    </tr>\n",
       "    <tr>\n",
       "      <th>1</th>\n",
       "      <td>37216</td>\n",
       "      <td>3</td>\n",
       "      <td>NASHVILLE</td>\n",
       "      <td>75820.997821400058</td>\n",
       "      <td>188884682.28344727</td>\n",
       "      <td>MULTIPOLYGON (((-86.73451 36.23774, -86.73425 ...</td>\n",
       "    </tr>\n",
       "    <tr>\n",
       "      <th>2</th>\n",
       "      <td>37204</td>\n",
       "      <td>9</td>\n",
       "      <td>NASHVILLE</td>\n",
       "      <td>93180.292250425613</td>\n",
       "      <td>200664795.51708984</td>\n",
       "      <td>MULTIPOLYGON (((-86.77914 36.13424, -86.77923 ...</td>\n",
       "    </tr>\n",
       "    <tr>\n",
       "      <th>3</th>\n",
       "      <td>37027</td>\n",
       "      <td>11</td>\n",
       "      <td>BRENTWOOD</td>\n",
       "      <td>159760.6942933173</td>\n",
       "      <td>174978422.04101562</td>\n",
       "      <td>MULTIPOLYGON (((-86.81258 36.06319, -86.81263 ...</td>\n",
       "    </tr>\n",
       "    <tr>\n",
       "      <th>4</th>\n",
       "      <td>37064</td>\n",
       "      <td>18</td>\n",
       "      <td>FRANKLIN</td>\n",
       "      <td>28995.828320601937</td>\n",
       "      <td>46969608.005737305</td>\n",
       "      <td>MULTIPOLYGON (((-87.02197 36.01200, -87.02140 ...</td>\n",
       "    </tr>\n",
       "  </tbody>\n",
       "</table>\n",
       "</div>"
      ],
      "text/plain": [
       "     zip objectid    po_name      shape_stlength        shape_starea  \\\n",
       "0  37115        1    MADISON  178783.02488886821  596553400.57885742   \n",
       "1  37216        3  NASHVILLE  75820.997821400058  188884682.28344727   \n",
       "2  37204        9  NASHVILLE  93180.292250425613  200664795.51708984   \n",
       "3  37027       11  BRENTWOOD   159760.6942933173  174978422.04101562   \n",
       "4  37064       18   FRANKLIN  28995.828320601937  46969608.005737305   \n",
       "\n",
       "                                            geometry  \n",
       "0  MULTIPOLYGON (((-86.68725 36.31821, -86.68722 ...  \n",
       "1  MULTIPOLYGON (((-86.73451 36.23774, -86.73425 ...  \n",
       "2  MULTIPOLYGON (((-86.77914 36.13424, -86.77923 ...  \n",
       "3  MULTIPOLYGON (((-86.81258 36.06319, -86.81263 ...  \n",
       "4  MULTIPOLYGON (((-87.02197 36.01200, -87.02140 ...  "
      ]
     },
     "execution_count": 4,
     "metadata": {},
     "output_type": "execute_result"
    }
   ],
   "source": [
    "zipcodes = gpd.read_file('../data/zipcodes.geojson')\n",
    "print(zipcodes.crs)\n",
    "zipcodes.head()"
   ]
  },
  {
   "cell_type": "code",
   "execution_count": 5,
   "metadata": {},
   "outputs": [
    {
     "data": {
      "text/plain": [
       "<AxesSubplot:>"
      ]
     },
     "execution_count": 5,
     "metadata": {},
     "output_type": "execute_result"
    },
    {
     "data": {
      "image/png": "[encoded data removed]",
      "text/plain": [
       "<Figure size 432x288 with 1 Axes>"
      ]
     },
     "metadata": {
      "needs_background": "light"
     },
     "output_type": "display_data"
    }
   ],
   "source": [
    "zipcodes.plot()"
   ]
  },
  {
   "cell_type": "code",
   "execution_count": 6,
   "metadata": {},
   "outputs": [
    {
     "name": "stdout",
     "output_type": "stream",
     "text": [
      "    Seizure DateTime CallTypeId  ALI Latitude  ALI Longitude  \\\n",
      "0      3/3/2020 0:34  911 Calls     36.072708     -86.665779   \n",
      "1      3/3/2020 0:36  911 Calls     36.159634     -86.841904   \n",
      "2      3/3/2020 0:36  911 Calls     36.264153     -86.708862   \n",
      "3      3/3/2020 0:36  911 Calls           NaN            NaN   \n",
      "4      3/3/2020 0:36  911 Calls     36.233467     -86.721077   \n",
      "..               ...        ...           ...            ...   \n",
      "470    3/3/2020 4:54  911 Calls     36.142552     -86.635330   \n",
      "471    3/3/2020 4:54  911 Calls     36.189415     -86.813557   \n",
      "472    3/3/2020 4:55  911 Calls     36.223534     -86.757874   \n",
      "473    3/3/2020 4:56  911 Calls     36.168398     -86.783774   \n",
      "474    3/3/2020 4:58  911 Calls     36.276566     -86.799417   \n",
      "\n",
      "                    Cell Tower Address  \n",
      "0           620 Richards RD - N Sector  \n",
      "1               4507D KENTUCKY AV - SE  \n",
      "2             329 THELMA ST - S Sector  \n",
      "3                       526 FOUNDRY DR  \n",
      "4                 5007B RUSKIN AVE - N  \n",
      "..                                 ...  \n",
      "470                    WIRELESS CALLER  \n",
      "471                    WIRELESS CALLER  \n",
      "472                    WIRELESS CALLER  \n",
      "473  600 DR MARTIN L KING JR BLVD - NE  \n",
      "474             4884 LICKTON PIKE - SE  \n",
      "\n",
      "[475 rows x 5 columns]\n"
     ]
    }
   ],
   "source": [
    "print(tornado_911\n",
    "     )"
   ]
  },
  {
   "cell_type": "code",
   "execution_count": 9,
   "metadata": {},
   "outputs": [
    {
     "name": "stdout",
     "output_type": "stream",
     "text": [
      "    Seizure DateTime CallTypeId        lat       long  \\\n",
      "0      3/3/2020 0:34  911 Calls  36.072708 -86.665779   \n",
      "1      3/3/2020 0:36  911 Calls  36.159634 -86.841904   \n",
      "2      3/3/2020 0:36  911 Calls  36.264153 -86.708862   \n",
      "3      3/3/2020 0:36  911 Calls        NaN        NaN   \n",
      "4      3/3/2020 0:36  911 Calls  36.233467 -86.721077   \n",
      "..               ...        ...        ...        ...   \n",
      "470    3/3/2020 4:54  911 Calls  36.142552 -86.635330   \n",
      "471    3/3/2020 4:54  911 Calls  36.189415 -86.813557   \n",
      "472    3/3/2020 4:55  911 Calls  36.223534 -86.757874   \n",
      "473    3/3/2020 4:56  911 Calls  36.168398 -86.783774   \n",
      "474    3/3/2020 4:58  911 Calls  36.276566 -86.799417   \n",
      "\n",
      "                    Cell Tower Address  \n",
      "0           620 Richards RD - N Sector  \n",
      "1               4507D KENTUCKY AV - SE  \n",
      "2             329 THELMA ST - S Sector  \n",
      "3                       526 FOUNDRY DR  \n",
      "4                 5007B RUSKIN AVE - N  \n",
      "..                                 ...  \n",
      "470                    WIRELESS CALLER  \n",
      "471                    WIRELESS CALLER  \n",
      "472                    WIRELESS CALLER  \n",
      "473  600 DR MARTIN L KING JR BLVD - NE  \n",
      "474             4884 LICKTON PIKE - SE  \n",
      "\n",
      "[475 rows x 5 columns]\n"
     ]
    }
   ],
   "source": [
    "tornado_911 = tornado_911.rename(columns = {'ALI Latitude': 'lat'})\n",
    "tornado_911 = tornado_911.rename(columns = {'ALI Longitude':'long'})\n",
    "print(tornado_911)"
   ]
  },
  {
   "cell_type": "code",
   "execution_count": 11,
   "metadata": {},
   "outputs": [
    {
     "data": {
      "text/plain": [
       "<bound method NDFrame.head of     Seizure DateTime CallTypeId        lat       long  \\\n",
       "0      3/3/2020 0:34  911 Calls  36.072708 -86.665779   \n",
       "1      3/3/2020 0:36  911 Calls  36.159634 -86.841904   \n",
       "2      3/3/2020 0:36  911 Calls  36.264153 -86.708862   \n",
       "3      3/3/2020 0:36  911 Calls        NaN        NaN   \n",
       "4      3/3/2020 0:36  911 Calls  36.233467 -86.721077   \n",
       "..               ...        ...        ...        ...   \n",
       "470    3/3/2020 4:54  911 Calls  36.142552 -86.635330   \n",
       "471    3/3/2020 4:54  911 Calls  36.189415 -86.813557   \n",
       "472    3/3/2020 4:55  911 Calls  36.223534 -86.757874   \n",
       "473    3/3/2020 4:56  911 Calls  36.168398 -86.783774   \n",
       "474    3/3/2020 4:58  911 Calls  36.276566 -86.799417   \n",
       "\n",
       "                    Cell Tower Address                              geometry  \n",
       "0           620 Richards RD - N Sector          POINT (-86.665779 36.072708)  \n",
       "1               4507D KENTUCKY AV - SE          POINT (-86.841904 36.159634)  \n",
       "2             329 THELMA ST - S Sector          POINT (-86.708862 36.264153)  \n",
       "3                       526 FOUNDRY DR                       POINT (nan nan)  \n",
       "4                 5007B RUSKIN AVE - N  POINT (-86.72107700000001 36.233467)  \n",
       "..                                 ...                                   ...  \n",
       "470                    WIRELESS CALLER  POINT (-86.63533000000001 36.142552)  \n",
       "471                    WIRELESS CALLER  POINT (-86.81355699999999 36.189415)  \n",
       "472                    WIRELESS CALLER          POINT (-86.757874 36.223534)  \n",
       "473  600 DR MARTIN L KING JR BLVD - NE  POINT (-86.78377399999999 36.168398)  \n",
       "474             4884 LICKTON PIKE - SE  POINT (-86.79941700000001 36.276566)  \n",
       "\n",
       "[475 rows x 6 columns]>"
      ]
     },
     "execution_count": 11,
     "metadata": {},
     "output_type": "execute_result"
    }
   ],
   "source": [
    "tornado_911['geometry'] = tornado_911.apply(lambda x: Point((float(x.long),float(x.lat))),axis=1)\n",
    "tornado_911.head"
   ]
  },
  {
   "cell_type": "code",
   "execution_count": 12,
   "metadata": {},
   "outputs": [
    {
     "data": {
      "text/plain": [
       "geopandas.geodataframe.GeoDataFrame"
      ]
     },
     "execution_count": 12,
     "metadata": {},
     "output_type": "execute_result"
    }
   ],
   "source": [
    "tornado_geo = gpd.GeoDataFrame(tornado_911, crs=zipcodes.crs,\n",
    "                              geometry = tornado_911['geometry'])\n",
    "type(tornado_geo)"
   ]
  },
  {
   "cell_type": "code",
   "execution_count": 13,
   "metadata": {},
   "outputs": [],
   "source": [
    "zipcodes=zipcodes[['zip', 'po_name', 'geometry']]"
   ]
  },
  {
   "cell_type": "code",
   "execution_count": 14,
   "metadata": {},
   "outputs": [],
   "source": [
    "tornado_calls_by_zip = gpd.sjoin(tornado_geo, zipcodes, op = 'within')"
   ]
  },
  {
   "cell_type": "code",
   "execution_count": 15,
   "metadata": {},
   "outputs": [
    {
     "data": {
      "text/html": [
       "<div>\n",
       "<style scoped>\n",
       "    .dataframe tbody tr th:only-of-type {\n",
       "        vertical-align: middle;\n",
       "    }\n",
       "\n",
       "    .dataframe tbody tr th {\n",
       "        vertical-align: top;\n",
       "    }\n",
       "\n",
       "    .dataframe thead th {\n",
       "        text-align: right;\n",
       "    }\n",
       "</style>\n",
       "<table border=\"1\" class=\"dataframe\">\n",
       "  <thead>\n",
       "    <tr style=\"text-align: right;\">\n",
       "      <th></th>\n",
       "      <th>Seizure DateTime</th>\n",
       "      <th>CallTypeId</th>\n",
       "      <th>lat</th>\n",
       "      <th>long</th>\n",
       "      <th>Cell Tower Address</th>\n",
       "      <th>geometry</th>\n",
       "      <th>index_right</th>\n",
       "      <th>zip</th>\n",
       "      <th>po_name</th>\n",
       "    </tr>\n",
       "  </thead>\n",
       "  <tbody>\n",
       "    <tr>\n",
       "      <th>0</th>\n",
       "      <td>3/3/2020 0:34</td>\n",
       "      <td>911 Calls</td>\n",
       "      <td>36.072708</td>\n",
       "      <td>-86.665779</td>\n",
       "      <td>620 Richards RD - N Sector</td>\n",
       "      <td>POINT (-86.66578 36.07271)</td>\n",
       "      <td>50</td>\n",
       "      <td>37013</td>\n",
       "      <td>ANTIOCH</td>\n",
       "    </tr>\n",
       "    <tr>\n",
       "      <th>10</th>\n",
       "      <td>3/3/2020 0:38</td>\n",
       "      <td>911 Calls</td>\n",
       "      <td>36.052055</td>\n",
       "      <td>-86.648331</td>\n",
       "      <td>745 BELL RD - OMNI Sector</td>\n",
       "      <td>POINT (-86.64833 36.05205)</td>\n",
       "      <td>50</td>\n",
       "      <td>37013</td>\n",
       "      <td>ANTIOCH</td>\n",
       "    </tr>\n",
       "    <tr>\n",
       "      <th>64</th>\n",
       "      <td>3/3/2020 0:53</td>\n",
       "      <td>911 Calls</td>\n",
       "      <td>36.050048</td>\n",
       "      <td>-86.650629</td>\n",
       "      <td>5646 AMALIE DR - SE</td>\n",
       "      <td>POINT (-86.65063 36.05005)</td>\n",
       "      <td>50</td>\n",
       "      <td>37013</td>\n",
       "      <td>ANTIOCH</td>\n",
       "    </tr>\n",
       "    <tr>\n",
       "      <th>194</th>\n",
       "      <td>3/3/2020 1:29</td>\n",
       "      <td>911 Calls</td>\n",
       "      <td>36.068298</td>\n",
       "      <td>-86.681550</td>\n",
       "      <td>3930 APACHE TRAIL - SE SECTOR</td>\n",
       "      <td>POINT (-86.68155 36.06830)</td>\n",
       "      <td>50</td>\n",
       "      <td>37013</td>\n",
       "      <td>ANTIOCH</td>\n",
       "    </tr>\n",
       "    <tr>\n",
       "      <th>234</th>\n",
       "      <td>3/3/2020 1:40</td>\n",
       "      <td>911 Calls</td>\n",
       "      <td>36.058578</td>\n",
       "      <td>-86.699745</td>\n",
       "      <td>5067 COLEMONT DR - N</td>\n",
       "      <td>POINT (-86.69974 36.05858)</td>\n",
       "      <td>50</td>\n",
       "      <td>37013</td>\n",
       "      <td>ANTIOCH</td>\n",
       "    </tr>\n",
       "  </tbody>\n",
       "</table>\n",
       "</div>"
      ],
      "text/plain": [
       "    Seizure DateTime CallTypeId        lat       long  \\\n",
       "0      3/3/2020 0:34  911 Calls  36.072708 -86.665779   \n",
       "10     3/3/2020 0:38  911 Calls  36.052055 -86.648331   \n",
       "64     3/3/2020 0:53  911 Calls  36.050048 -86.650629   \n",
       "194    3/3/2020 1:29  911 Calls  36.068298 -86.681550   \n",
       "234    3/3/2020 1:40  911 Calls  36.058578 -86.699745   \n",
       "\n",
       "                Cell Tower Address                    geometry  index_right  \\\n",
       "0       620 Richards RD - N Sector  POINT (-86.66578 36.07271)           50   \n",
       "10       745 BELL RD - OMNI Sector  POINT (-86.64833 36.05205)           50   \n",
       "64             5646 AMALIE DR - SE  POINT (-86.65063 36.05005)           50   \n",
       "194  3930 APACHE TRAIL - SE SECTOR  POINT (-86.68155 36.06830)           50   \n",
       "234           5067 COLEMONT DR - N  POINT (-86.69974 36.05858)           50   \n",
       "\n",
       "       zip  po_name  \n",
       "0    37013  ANTIOCH  \n",
       "10   37013  ANTIOCH  \n",
       "64   37013  ANTIOCH  \n",
       "194  37013  ANTIOCH  \n",
       "234  37013  ANTIOCH  "
      ]
     },
     "execution_count": 15,
     "metadata": {},
     "output_type": "execute_result"
    }
   ],
   "source": [
    "tornado_calls_by_zip.head()"
   ]
  },
  {
   "cell_type": "code",
   "execution_count": 16,
   "metadata": {},
   "outputs": [
    {
     "data": {
      "text/plain": [
       "37206    90\n",
       "37208    80\n",
       "37076    56\n",
       "37214    32\n",
       "37207    30\n",
       "37209    24\n",
       "37013    17\n",
       "37203    14\n",
       "37115    12\n",
       "37201    12\n",
       "37219     9\n",
       "37210     8\n",
       "37189     7\n",
       "37217     7\n",
       "37213     6\n",
       "37211     5\n",
       "37215     4\n",
       "37216     3\n",
       "37221     3\n",
       "37072     3\n",
       "37212     2\n",
       "37218     2\n",
       "37205     2\n",
       "37138     2\n",
       "37228     1\n",
       "37204     1\n",
       "37080     1\n",
       "37232     1\n",
       "Name: zip, dtype: int64"
      ]
     },
     "execution_count": 16,
     "metadata": {},
     "output_type": "execute_result"
    }
   ],
   "source": [
    "tornado_calls_by_zip['zip'].value_counts()"
   ]
  },
  {
   "cell_type": "code",
   "execution_count": 22,
   "metadata": {},
   "outputs": [
    {
     "data": {
      "image/png": "[encoded data removed]",
      "text/plain": [
       "<Figure size 576x720 with 1 Axes>"
      ]
     },
     "metadata": {
      "needs_background": "light"
     },
     "output_type": "display_data"
    }
   ],
   "source": [
    "ax = zipcodes.plot(figsize = (8,10), color='lightgreen')\n",
    "tornado_calls_by_zip.plot(ax=ax,column ='po_name');\n",
    "plt.show()\n"
   ]
  },
  {
   "cell_type": "code",
   "execution_count": 23,
   "metadata": {},
   "outputs": [
    {
     "name": "stderr",
     "output_type": "stream",
     "text": [
      "<ipython-input-23-2dee0cdaba00>:1: UserWarning: Geometry is in a geographic CRS. Results from 'centroid' are likely incorrect. Use 'GeoSeries.to_crs()' to re-project geometries to a projected CRS before this operation.\n",
      "\n",
      "  zipcodes.geometry.centroid\n"
     ]
    },
    {
     "data": {
      "text/plain": [
       "0     POINT (-86.69477 36.25433)\n",
       "1     POINT (-86.72635 36.21605)\n",
       "2     POINT (-86.77467 36.10566)\n",
       "3     POINT (-86.78551 36.04148)\n",
       "4     POINT (-87.02866 36.00026)\n",
       "5     POINT (-87.03712 36.08997)\n",
       "6     POINT (-86.86263 36.38001)\n",
       "7     POINT (-86.97531 36.06283)\n",
       "8     POINT (-86.76433 36.33621)\n",
       "9     POINT (-86.80157 36.13335)\n",
       "10    POINT (-86.63653 35.98113)\n",
       "11    POINT (-86.72226 36.00938)\n",
       "12    POINT (-86.91816 36.15605)\n",
       "13    POINT (-86.73098 36.18090)\n",
       "14    POINT (-86.69470 36.00387)\n",
       "15    POINT (-86.85733 36.37882)\n",
       "16    POINT (-86.72570 36.00942)\n",
       "17    POINT (-86.66093 36.10779)\n",
       "18    POINT (-86.82996 36.27880)\n",
       "19    POINT (-86.78726 36.28724)\n",
       "20    POINT (-86.89487 36.32034)\n",
       "21    POINT (-86.68513 35.99434)\n",
       "22    POINT (-86.64118 36.25192)\n",
       "23    POINT (-86.98674 36.15655)\n",
       "24    POINT (-86.78317 36.16682)\n",
       "25    POINT (-86.68331 35.99201)\n",
       "26    POINT (-86.76289 36.39920)\n",
       "27    POINT (-86.89039 36.20505)\n",
       "28    POINT (-86.52221 36.13926)\n",
       "29    POINT (-86.67866 35.98840)\n",
       "30    POINT (-86.80236 36.14071)\n",
       "31    POINT (-86.76851 36.16713)\n",
       "32    POINT (-86.87327 36.11084)\n",
       "33    POINT (-86.89242 36.27139)\n",
       "34    POINT (-86.99584 36.11958)\n",
       "35    POINT (-86.77702 36.16557)\n",
       "36    POINT (-86.66271 36.16744)\n",
       "37    POINT (-86.94712 36.24580)\n",
       "38    POINT (-86.80250 36.14688)\n",
       "39    POINT (-86.80805 36.17736)\n",
       "40    POINT (-86.57718 36.18867)\n",
       "41    POINT (-86.77677 36.23245)\n",
       "42    POINT (-86.68156 35.99059)\n",
       "43    POINT (-86.83435 36.08232)\n",
       "44    POINT (-86.80400 36.19479)\n",
       "45    POINT (-86.58400 36.14525)\n",
       "46    POINT (-86.73347 36.14429)\n",
       "47    POINT (-87.03606 36.09576)\n",
       "48    POINT (-86.72308 36.06711)\n",
       "49    POINT (-86.60543 36.01826)\n",
       "50    POINT (-86.63636 36.04177)\n",
       "51    POINT (-86.73198 36.01007)\n",
       "52    POINT (-86.78161 36.06685)\n",
       "53    POINT (-86.56571 36.14415)\n",
       "54    POINT (-86.75978 36.39850)\n",
       "55    POINT (-86.78898 36.14857)\n",
       "56    POINT (-86.79086 36.15924)\n",
       "dtype: geometry"
      ]
     },
     "execution_count": 23,
     "metadata": {},
     "output_type": "execute_result"
    }
   ],
   "source": [
    "zipcodes.geometry.centroid"
   ]
  },
  {
   "cell_type": "code",
   "execution_count": 24,
   "metadata": {},
   "outputs": [
    {
     "name": "stderr",
     "output_type": "stream",
     "text": [
      "<ipython-input-24-9214b2d35599>:1: UserWarning: Geometry is in a geographic CRS. Results from 'centroid' are likely incorrect. Use 'GeoSeries.to_crs()' to re-project geometries to a projected CRS before this operation.\n",
      "\n",
      "  center = zipcodes.geometry.centroid[19]\n"
     ]
    }
   ],
   "source": [
    "center = zipcodes.geometry.centroid[19]"
   ]
  },
  {
   "cell_type": "code",
   "execution_count": 25,
   "metadata": {},
   "outputs": [
    {
     "name": "stdout",
     "output_type": "stream",
     "text": [
      "[36.28723914829086, -86.78726069494236]\n"
     ]
    }
   ],
   "source": [
    "area_center= [center.y, center.x]\n",
    "print(area_center)"
   ]
  },
  {
   "cell_type": "code",
   "execution_count": 26,
   "metadata": {},
   "outputs": [
    {
     "data": {
      "text/html": [
       "<div style=\"width:100%;\"><div style=\"position:relative;width:100%;height:0;padding-bottom:60%;\"><span style=\"color:#565656\">Make this Notebook Trusted to load map: File -> Trust Notebook</span><iframe src=\"about:blank\" style=\"position:absolute;width:100%;height:100%;left:0;top:0;border:none !important;\" data-html=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 onload=\"this.contentDocument.open();this.contentDocument.write(atob(this.getAttribute('data-html')));this.contentDocument.close();\" allowfullscreen webkitallowfullscreen mozallowfullscreen></iframe></div></div>"
      ],
      "text/plain": [
       "<folium.folium.Map at 0x7ff292526e20>"
      ]
     },
     "execution_count": 26,
     "metadata": {},
     "output_type": "execute_result"
    }
   ],
   "source": [
    "#create our map of Nashville Zip Codes and show it\n",
    "map_tornado_911_calls=folium.Map(location = area_center, zoom_start = 12)\n",
    "map_tornado_911_calls"
   ]
  },
  {
   "cell_type": "code",
   "execution_count": 27,
   "metadata": {},
   "outputs": [
    {
     "name": "stdout",
     "output_type": "stream",
     "text": [
      "index is  0\n",
      "values are: \n",
      " \n",
      "Seizure DateTime                     3/3/2020 0:34\n",
      "CallTypeId                               911 Calls\n",
      "lat                                        36.0727\n",
      "long                                      -86.6658\n",
      "Cell Tower Address      620 Richards RD - N Sector\n",
      "geometry              POINT (-86.665779 36.072708)\n",
      "index_right                                     50\n",
      "zip                                          37013\n",
      "po_name                                    ANTIOCH\n",
      "Name: 0, dtype: object\n",
      "--------------------------\n",
      "index is  10\n",
      "values are: \n",
      " \n",
      "Seizure DateTime                     3/3/2020 0:38\n",
      "CallTypeId                               911 Calls\n",
      "lat                                        36.0521\n",
      "long                                      -86.6483\n",
      "Cell Tower Address       745 BELL RD - OMNI Sector\n",
      "geometry              POINT (-86.648331 36.052055)\n",
      "index_right                                     50\n",
      "zip                                          37013\n",
      "po_name                                    ANTIOCH\n",
      "Name: 10, dtype: object\n",
      "--------------------------\n",
      "index is  64\n",
      "values are: \n",
      " \n",
      "Seizure DateTime                             3/3/2020 0:53\n",
      "CallTypeId                                       911 Calls\n",
      "lat                                                  36.05\n",
      "long                                              -86.6506\n",
      "Cell Tower Address                     5646 AMALIE DR - SE\n",
      "geometry              POINT (-86.65062900000001 36.050048)\n",
      "index_right                                             50\n",
      "zip                                                  37013\n",
      "po_name                                            ANTIOCH\n",
      "Name: 64, dtype: object\n",
      "--------------------------\n"
     ]
    }
   ],
   "source": [
    "i=0\n",
    "for row_index, row_values in tornado_calls_by_zip.iterrows():\n",
    "    if i<3:\n",
    "        print('index is ', row_index)\n",
    "        print('values are: ')\n",
    "        print(' ')\n",
    "        print(row_values)\n",
    "        print('--------------------------')\n",
    "        i+=1"
   ]
  },
  {
   "cell_type": "code",
   "execution_count": 30,
   "metadata": {},
   "outputs": [
    {
     "ename": "FileNotFoundError",
     "evalue": "[Errno 2] No such file or directory: '../maps/map_tornado_911_calls.html'",
     "output_type": "error",
     "traceback": [
      "\u001b[0;31m---------------------------------------------------------------------------\u001b[0m",
      "\u001b[0;31mFileNotFoundError\u001b[0m                         Traceback (most recent call last)",
      "\u001b[0;32m<ipython-input-30-b28248349823>\u001b[0m in \u001b[0;36m<module>\u001b[0;34m\u001b[0m\n\u001b[1;32m     16\u001b[0m \u001b[0;34m\u001b[0m\u001b[0m\n\u001b[1;32m     17\u001b[0m     \u001b[0mmarker\u001b[0m\u001b[0;34m.\u001b[0m\u001b[0madd_to\u001b[0m\u001b[0;34m(\u001b[0m\u001b[0mmap_tornado_911_calls\u001b[0m\u001b[0;34m)\u001b[0m\u001b[0;34m\u001b[0m\u001b[0;34m\u001b[0m\u001b[0m\n\u001b[0;32m---> 18\u001b[0;31m \u001b[0mmap_tornado_911_calls\u001b[0m\u001b[0;34m.\u001b[0m\u001b[0msave\u001b[0m\u001b[0;34m(\u001b[0m\u001b[0;34m'../maps/map_tornado_911_calls.html'\u001b[0m\u001b[0;34m)\u001b[0m\u001b[0;34m\u001b[0m\u001b[0;34m\u001b[0m\u001b[0m\n\u001b[0m\u001b[1;32m     19\u001b[0m \u001b[0;34m\u001b[0m\u001b[0m\n\u001b[1;32m     20\u001b[0m \u001b[0;31m#display our map\u001b[0m\u001b[0;34m\u001b[0m\u001b[0;34m\u001b[0m\u001b[0;34m\u001b[0m\u001b[0m\n",
      "\u001b[0;32m~/opt/anaconda3/envs/geospatial/lib/python3.8/site-packages/branca/element.py\u001b[0m in \u001b[0;36msave\u001b[0;34m(self, outfile, close_file, **kwargs)\u001b[0m\n\u001b[1;32m    159\u001b[0m         \"\"\"\n\u001b[1;32m    160\u001b[0m         \u001b[0;32mif\u001b[0m \u001b[0misinstance\u001b[0m\u001b[0;34m(\u001b[0m\u001b[0moutfile\u001b[0m\u001b[0;34m,\u001b[0m \u001b[0mstr\u001b[0m\u001b[0;34m)\u001b[0m \u001b[0;32mor\u001b[0m \u001b[0misinstance\u001b[0m\u001b[0;34m(\u001b[0m\u001b[0moutfile\u001b[0m\u001b[0;34m,\u001b[0m \u001b[0mbytes\u001b[0m\u001b[0;34m)\u001b[0m\u001b[0;34m:\u001b[0m\u001b[0;34m\u001b[0m\u001b[0;34m\u001b[0m\u001b[0m\n\u001b[0;32m--> 161\u001b[0;31m             \u001b[0mfid\u001b[0m \u001b[0;34m=\u001b[0m \u001b[0mopen\u001b[0m\u001b[0;34m(\u001b[0m\u001b[0moutfile\u001b[0m\u001b[0;34m,\u001b[0m \u001b[0;34m'wb'\u001b[0m\u001b[0;34m)\u001b[0m\u001b[0;34m\u001b[0m\u001b[0;34m\u001b[0m\u001b[0m\n\u001b[0m\u001b[1;32m    162\u001b[0m         \u001b[0;32melse\u001b[0m\u001b[0;34m:\u001b[0m\u001b[0;34m\u001b[0m\u001b[0;34m\u001b[0m\u001b[0m\n\u001b[1;32m    163\u001b[0m             \u001b[0mfid\u001b[0m \u001b[0;34m=\u001b[0m \u001b[0moutfile\u001b[0m\u001b[0;34m\u001b[0m\u001b[0;34m\u001b[0m\u001b[0m\n",
      "\u001b[0;31mFileNotFoundError\u001b[0m: [Errno 2] No such file or directory: '../maps/map_tornado_911_calls.html'"
     ]
    }
   ],
   "source": [
    "#draw our zip code area: 37207\n",
    "map_tornado_911_calls = folium.Map(location =  area_center, zoom_start = 12)\n",
    "\n",
    "folium.GeoJson(zipcodes).add_to(map_tornado_911_calls)\n",
    "\n",
    "#iterate through po_name to create locations and markers \n",
    "#for calls\n",
    "#remember for Folium locations, lat is listed first!!\n",
    "\n",
    "for row_index, row_values in tornado_calls_by_zip.iterrows():\n",
    "    loc = [row_values['lat'], row_values['long']]\n",
    "    pop = str(row_values['po_name'])\n",
    "    marker = folium.Marker(\n",
    "        location = loc, \n",
    "        popup = pop) \n",
    "    \n",
    "    marker.add_to(map_tornado_911_calls)\n",
    "map_tornado_911_calls.save('../maps/map_tornado_911_calls.html')\n",
    "\n",
    "#display our map\n",
    "map_tornado_911_calls.html"
   ]
  },
  {
   "cell_type": "code",
   "execution_count": null,
   "metadata": {},
   "outputs": [],
   "source": []
  }
 ],
 "metadata": {
  "kernelspec": {
   "display_name": "Python 3",
   "language": "python",
   "name": "python3"
  },
  "language_info": {
   "codemirror_mode": {
    "name": "ipython",
    "version": 3
   },
   "file_extension": ".py",
   "mimetype": "text/x-python",
   "name": "python",
   "nbconvert_exporter": "python",
   "pygments_lexer": "ipython3",
   "version": "3.8.5"
  }
 },
 "nbformat": 4,
 "nbformat_minor": 4
}
