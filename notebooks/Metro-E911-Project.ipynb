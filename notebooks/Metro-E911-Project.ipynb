{
 "cells": [
  {
   "cell_type": "code",
   "execution_count": 1,
   "metadata": {},
   "outputs": [],
   "source": [
    "import pandas as pd\n",
    "import numpy as np\n",
    "import matplotlib.pyplot as plt\n",
    "import seaborn as sns"
   ]
  },
  {
   "cell_type": "code",
   "execution_count": 2,
   "metadata": {},
   "outputs": [],
   "source": [
    "derecho_911 = pd.read_csv('../data/911_Phone Calls_Derecho_050320 050420.csv')"
   ]
  },
  {
   "cell_type": "code",
   "execution_count": 3,
   "metadata": {},
   "outputs": [
    {
     "data": {
      "text/html": [
       "<div>\n",
       "<style scoped>\n",
       "    .dataframe tbody tr th:only-of-type {\n",
       "        vertical-align: middle;\n",
       "    }\n",
       "\n",
       "    .dataframe tbody tr th {\n",
       "        vertical-align: top;\n",
       "    }\n",
       "\n",
       "    .dataframe thead th {\n",
       "        text-align: right;\n",
       "    }\n",
       "</style>\n",
       "<table border=\"1\" class=\"dataframe\">\n",
       "  <thead>\n",
       "    <tr style=\"text-align: right;\">\n",
       "      <th></th>\n",
       "      <th>Seizure DateTime</th>\n",
       "      <th>CallTypeId</th>\n",
       "      <th>ALI Latitude</th>\n",
       "      <th>ALI Longitude</th>\n",
       "      <th>Cell Tower Address</th>\n",
       "    </tr>\n",
       "  </thead>\n",
       "  <tbody>\n",
       "    <tr>\n",
       "      <td>0</td>\n",
       "      <td>5/3/2020 16:30</td>\n",
       "      <td>911 Calls</td>\n",
       "      <td>36.247802</td>\n",
       "      <td>-86.716847</td>\n",
       "      <td>WIRELESS CALLER</td>\n",
       "    </tr>\n",
       "    <tr>\n",
       "      <td>1</td>\n",
       "      <td>5/3/2020 16:30</td>\n",
       "      <td>911 Calls</td>\n",
       "      <td>36.143108</td>\n",
       "      <td>-86.800621</td>\n",
       "      <td>1161 21ST AV S - SE</td>\n",
       "    </tr>\n",
       "    <tr>\n",
       "      <td>2</td>\n",
       "      <td>5/3/2020 16:30</td>\n",
       "      <td>911 Calls</td>\n",
       "      <td>36.100516</td>\n",
       "      <td>-87.056329</td>\n",
       "      <td>8013 C MCCRORY LN - N</td>\n",
       "    </tr>\n",
       "    <tr>\n",
       "      <td>3</td>\n",
       "      <td>5/3/2020 16:30</td>\n",
       "      <td>911 Calls</td>\n",
       "      <td>36.130021</td>\n",
       "      <td>-86.927819</td>\n",
       "      <td>5758 RIVER RD - SW</td>\n",
       "    </tr>\n",
       "    <tr>\n",
       "      <td>4</td>\n",
       "      <td>5/3/2020 16:31</td>\n",
       "      <td>911 Calls</td>\n",
       "      <td>36.142380</td>\n",
       "      <td>-86.881882</td>\n",
       "      <td>3744B ANNEX AVE - SE</td>\n",
       "    </tr>\n",
       "  </tbody>\n",
       "</table>\n",
       "</div>"
      ],
      "text/plain": [
       "  Seizure DateTime CallTypeId  ALI Latitude  ALI Longitude  \\\n",
       "0   5/3/2020 16:30  911 Calls     36.247802     -86.716847   \n",
       "1   5/3/2020 16:30  911 Calls     36.143108     -86.800621   \n",
       "2   5/3/2020 16:30  911 Calls     36.100516     -87.056329   \n",
       "3   5/3/2020 16:30  911 Calls     36.130021     -86.927819   \n",
       "4   5/3/2020 16:31  911 Calls     36.142380     -86.881882   \n",
       "\n",
       "      Cell Tower Address  \n",
       "0        WIRELESS CALLER  \n",
       "1    1161 21ST AV S - SE  \n",
       "2  8013 C MCCRORY LN - N  \n",
       "3     5758 RIVER RD - SW  \n",
       "4   3744B ANNEX AVE - SE  "
      ]
     },
     "execution_count": 3,
     "metadata": {},
     "output_type": "execute_result"
    }
   ],
   "source": [
    "derecho_911.head(5)"
   ]
  },
  {
   "cell_type": "code",
   "execution_count": 4,
   "metadata": {},
   "outputs": [
    {
     "data": {
      "text/html": [
       "<div>\n",
       "<style scoped>\n",
       "    .dataframe tbody tr th:only-of-type {\n",
       "        vertical-align: middle;\n",
       "    }\n",
       "\n",
       "    .dataframe tbody tr th {\n",
       "        vertical-align: top;\n",
       "    }\n",
       "\n",
       "    .dataframe thead th {\n",
       "        text-align: right;\n",
       "    }\n",
       "</style>\n",
       "<table border=\"1\" class=\"dataframe\">\n",
       "  <thead>\n",
       "    <tr style=\"text-align: right;\">\n",
       "      <th></th>\n",
       "      <th>Seizure DateTime</th>\n",
       "      <th>CallTypeId</th>\n",
       "      <th>ALI Latitude</th>\n",
       "      <th>ALI Longitude</th>\n",
       "      <th>Cell Tower Address</th>\n",
       "    </tr>\n",
       "  </thead>\n",
       "  <tbody>\n",
       "    <tr>\n",
       "      <td>1544</td>\n",
       "      <td>5/4/2020 0:18</td>\n",
       "      <td>911 Calls</td>\n",
       "      <td>36.131694</td>\n",
       "      <td>-86.770535</td>\n",
       "      <td>1823-C 12TH AV - SECTOR SE S</td>\n",
       "    </tr>\n",
       "    <tr>\n",
       "      <td>1545</td>\n",
       "      <td>5/4/2020 0:22</td>\n",
       "      <td>911 Calls</td>\n",
       "      <td>36.042237</td>\n",
       "      <td>-86.743455</td>\n",
       "      <td>5244-C EDMONSON PIKE - SECTOR SE</td>\n",
       "    </tr>\n",
       "    <tr>\n",
       "      <td>1546</td>\n",
       "      <td>5/4/2020 0:25</td>\n",
       "      <td>911 Calls</td>\n",
       "      <td>36.077664</td>\n",
       "      <td>-86.655607</td>\n",
       "      <td>2747-B MURFREESBORO PKE - SECTOR NW</td>\n",
       "    </tr>\n",
       "    <tr>\n",
       "      <td>1547</td>\n",
       "      <td>5/4/2020 0:29</td>\n",
       "      <td>911 Calls</td>\n",
       "      <td>36.024706</td>\n",
       "      <td>-86.743562</td>\n",
       "      <td>302 SUMMIT VIEW DR - E</td>\n",
       "    </tr>\n",
       "    <tr>\n",
       "      <td>1548</td>\n",
       "      <td>5/4/2020 0:29</td>\n",
       "      <td>911 Calls</td>\n",
       "      <td>NaN</td>\n",
       "      <td>NaN</td>\n",
       "      <td>2014 QUAIL HOLLOW CIR</td>\n",
       "    </tr>\n",
       "  </tbody>\n",
       "</table>\n",
       "</div>"
      ],
      "text/plain": [
       "     Seizure DateTime CallTypeId  ALI Latitude  ALI Longitude  \\\n",
       "1544    5/4/2020 0:18  911 Calls     36.131694     -86.770535   \n",
       "1545    5/4/2020 0:22  911 Calls     36.042237     -86.743455   \n",
       "1546    5/4/2020 0:25  911 Calls     36.077664     -86.655607   \n",
       "1547    5/4/2020 0:29  911 Calls     36.024706     -86.743562   \n",
       "1548    5/4/2020 0:29  911 Calls           NaN            NaN   \n",
       "\n",
       "                       Cell Tower Address  \n",
       "1544         1823-C 12TH AV - SECTOR SE S  \n",
       "1545     5244-C EDMONSON PIKE - SECTOR SE  \n",
       "1546  2747-B MURFREESBORO PKE - SECTOR NW  \n",
       "1547               302 SUMMIT VIEW DR - E  \n",
       "1548                2014 QUAIL HOLLOW CIR  "
      ]
     },
     "execution_count": 4,
     "metadata": {},
     "output_type": "execute_result"
    }
   ],
   "source": [
    "derecho_911.tail(5)"
   ]
  },
  {
   "cell_type": "code",
   "execution_count": 5,
   "metadata": {},
   "outputs": [
    {
     "name": "stdout",
     "output_type": "stream",
     "text": [
      "<class 'pandas.core.frame.DataFrame'>\n",
      "RangeIndex: 1549 entries, 0 to 1548\n",
      "Data columns (total 5 columns):\n",
      "Seizure DateTime      1549 non-null object\n",
      "CallTypeId            1549 non-null object\n",
      "ALI Latitude          1483 non-null float64\n",
      "ALI Longitude         1483 non-null float64\n",
      "Cell Tower Address    1525 non-null object\n",
      "dtypes: float64(2), object(3)\n",
      "memory usage: 60.6+ KB\n"
     ]
    }
   ],
   "source": [
    "derecho_911.info()"
   ]
  },
  {
   "cell_type": "code",
   "execution_count": 6,
   "metadata": {},
   "outputs": [
    {
     "data": {
      "text/plain": [
       "Seizure DateTime       0\n",
       "CallTypeId             0\n",
       "ALI Latitude          66\n",
       "ALI Longitude         66\n",
       "Cell Tower Address    24\n",
       "dtype: int64"
      ]
     },
     "execution_count": 6,
     "metadata": {},
     "output_type": "execute_result"
    }
   ],
   "source": [
    " derecho_911.isnull().sum()"
   ]
  },
  {
   "cell_type": "code",
   "execution_count": 7,
   "metadata": {},
   "outputs": [
    {
     "data": {
      "text/plain": [
       "(1549, 5)"
      ]
     },
     "execution_count": 7,
     "metadata": {},
     "output_type": "execute_result"
    }
   ],
   "source": [
    "derecho_911.shape"
   ]
  },
  {
   "cell_type": "code",
   "execution_count": 8,
   "metadata": {},
   "outputs": [],
   "source": [
    "#skiprows can ignore the first few rows fixing parsing issues\n",
    "derecho_dispatch = pd.read_csv('../data/Computer Aided Dispatch Data_Derecho Incidents 050320-050420.csv', skiprows=2)"
   ]
  },
  {
   "cell_type": "code",
   "execution_count": 9,
   "metadata": {},
   "outputs": [
    {
     "data": {
      "text/html": [
       "<div>\n",
       "<style scoped>\n",
       "    .dataframe tbody tr th:only-of-type {\n",
       "        vertical-align: middle;\n",
       "    }\n",
       "\n",
       "    .dataframe tbody tr th {\n",
       "        vertical-align: top;\n",
       "    }\n",
       "\n",
       "    .dataframe thead th {\n",
       "        text-align: right;\n",
       "    }\n",
       "</style>\n",
       "<table border=\"1\" class=\"dataframe\">\n",
       "  <thead>\n",
       "    <tr style=\"text-align: right;\">\n",
       "      <th></th>\n",
       "      <th>IncidentDate</th>\n",
       "      <th>Location</th>\n",
       "      <th>Latitude1</th>\n",
       "      <th>Longitude1</th>\n",
       "      <th>IncidentTypeDescription1</th>\n",
       "    </tr>\n",
       "  </thead>\n",
       "  <tbody>\n",
       "    <tr>\n",
       "      <td>0</td>\n",
       "      <td>5/3/2020 4:31:07 PM</td>\n",
       "      <td>901 KENWICK CT W</td>\n",
       "      <td>36.046877</td>\n",
       "      <td>-86.962526</td>\n",
       "      <td>ELECTRICAL HAZARD</td>\n",
       "    </tr>\n",
       "    <tr>\n",
       "      <td>1</td>\n",
       "      <td>5/3/2020 4:32:18 PM</td>\n",
       "      <td>8036 ARBOR DR</td>\n",
       "      <td>36.082491</td>\n",
       "      <td>-86.940680</td>\n",
       "      <td>ELECTRICAL HAZARD</td>\n",
       "    </tr>\n",
       "    <tr>\n",
       "      <td>2</td>\n",
       "      <td>5/3/2020 4:32:23 PM</td>\n",
       "      <td>119 DUE WEST AV E</td>\n",
       "      <td>36.248029</td>\n",
       "      <td>-86.716875</td>\n",
       "      <td>NOT ALERT COPD</td>\n",
       "    </tr>\n",
       "    <tr>\n",
       "      <td>3</td>\n",
       "      <td>5/3/2020 4:33:04 PM</td>\n",
       "      <td>630 GALLATIN PKE S</td>\n",
       "      <td>36.256491</td>\n",
       "      <td>-86.714817</td>\n",
       "      <td>ABDOMINAL PAIN</td>\n",
       "    </tr>\n",
       "    <tr>\n",
       "      <td>4</td>\n",
       "      <td>5/3/2020 4:33:52 PM</td>\n",
       "      <td>615 W HILLWOOD DR</td>\n",
       "      <td>36.129690</td>\n",
       "      <td>-86.879834</td>\n",
       "      <td>ELECTRICAL HAZARD</td>\n",
       "    </tr>\n",
       "    <tr>\n",
       "      <td>5</td>\n",
       "      <td>5/3/2020 4:33:53 PM</td>\n",
       "      <td>622 BROOK HOLLOW RD</td>\n",
       "      <td>36.111773</td>\n",
       "      <td>-86.888087</td>\n",
       "      <td>ELECTRICAL HAZARD</td>\n",
       "    </tr>\n",
       "    <tr>\n",
       "      <td>6</td>\n",
       "      <td>5/3/2020 4:34:19 PM</td>\n",
       "      <td>JOCELYN HOLLOW RD / BRESSLYN RD</td>\n",
       "      <td>36.103318</td>\n",
       "      <td>-86.898080</td>\n",
       "      <td>ELECTRICAL HAZARD</td>\n",
       "    </tr>\n",
       "    <tr>\n",
       "      <td>7</td>\n",
       "      <td>5/3/2020 4:35:01 PM</td>\n",
       "      <td>WOODLAND ST / S 7TH ST</td>\n",
       "      <td>36.173583</td>\n",
       "      <td>-86.760339</td>\n",
       "      <td>SEIZURE: EFFECTIVE BREATHING NOT VERIFIED &gt;35</td>\n",
       "    </tr>\n",
       "    <tr>\n",
       "      <td>8</td>\n",
       "      <td>5/3/2020 4:36:42 PM</td>\n",
       "      <td>3000 POSTON AV</td>\n",
       "      <td>36.145332</td>\n",
       "      <td>-86.815356</td>\n",
       "      <td>GENERAL ALARM COMMERCIAL   INDUSTRIAL BUILD</td>\n",
       "    </tr>\n",
       "    <tr>\n",
       "      <td>9</td>\n",
       "      <td>5/3/2020 4:37:04 PM</td>\n",
       "      <td>51ST AV N / CENTENNIAL BLVD</td>\n",
       "      <td>36.162326</td>\n",
       "      <td>-86.849144</td>\n",
       "      <td>ELECTRICAL HAZARD</td>\n",
       "    </tr>\n",
       "  </tbody>\n",
       "</table>\n",
       "</div>"
      ],
      "text/plain": [
       "          IncidentDate                         Location  Latitude1  \\\n",
       "0  5/3/2020 4:31:07 PM                 901 KENWICK CT W  36.046877   \n",
       "1  5/3/2020 4:32:18 PM                    8036 ARBOR DR  36.082491   \n",
       "2  5/3/2020 4:32:23 PM                119 DUE WEST AV E  36.248029   \n",
       "3  5/3/2020 4:33:04 PM               630 GALLATIN PKE S  36.256491   \n",
       "4  5/3/2020 4:33:52 PM                615 W HILLWOOD DR  36.129690   \n",
       "5  5/3/2020 4:33:53 PM              622 BROOK HOLLOW RD  36.111773   \n",
       "6  5/3/2020 4:34:19 PM  JOCELYN HOLLOW RD / BRESSLYN RD  36.103318   \n",
       "7  5/3/2020 4:35:01 PM           WOODLAND ST / S 7TH ST  36.173583   \n",
       "8  5/3/2020 4:36:42 PM                  3000 POSTON AV   36.145332   \n",
       "9  5/3/2020 4:37:04 PM      51ST AV N / CENTENNIAL BLVD  36.162326   \n",
       "\n",
       "   Longitude1                       IncidentTypeDescription1  \n",
       "0  -86.962526                              ELECTRICAL HAZARD  \n",
       "1  -86.940680                              ELECTRICAL HAZARD  \n",
       "2  -86.716875                                 NOT ALERT COPD  \n",
       "3  -86.714817                                 ABDOMINAL PAIN  \n",
       "4  -86.879834                              ELECTRICAL HAZARD  \n",
       "5  -86.888087                              ELECTRICAL HAZARD  \n",
       "6  -86.898080                              ELECTRICAL HAZARD  \n",
       "7  -86.760339  SEIZURE: EFFECTIVE BREATHING NOT VERIFIED >35  \n",
       "8  -86.815356    GENERAL ALARM COMMERCIAL   INDUSTRIAL BUILD  \n",
       "9  -86.849144                              ELECTRICAL HAZARD  "
      ]
     },
     "execution_count": 9,
     "metadata": {},
     "output_type": "execute_result"
    }
   ],
   "source": [
    "derecho_dispatch.head(10)"
   ]
  },
  {
   "cell_type": "code",
   "execution_count": 10,
   "metadata": {},
   "outputs": [
    {
     "data": {
      "text/html": [
       "<div>\n",
       "<style scoped>\n",
       "    .dataframe tbody tr th:only-of-type {\n",
       "        vertical-align: middle;\n",
       "    }\n",
       "\n",
       "    .dataframe tbody tr th {\n",
       "        vertical-align: top;\n",
       "    }\n",
       "\n",
       "    .dataframe thead th {\n",
       "        text-align: right;\n",
       "    }\n",
       "</style>\n",
       "<table border=\"1\" class=\"dataframe\">\n",
       "  <thead>\n",
       "    <tr style=\"text-align: right;\">\n",
       "      <th></th>\n",
       "      <th>IncidentDate</th>\n",
       "      <th>Location</th>\n",
       "      <th>Latitude1</th>\n",
       "      <th>Longitude1</th>\n",
       "      <th>IncidentTypeDescription1</th>\n",
       "    </tr>\n",
       "  </thead>\n",
       "  <tbody>\n",
       "    <tr>\n",
       "      <td>622</td>\n",
       "      <td>5/4/2020 12:21:00 AM</td>\n",
       "      <td>625 BENTON AV</td>\n",
       "      <td>36.131384</td>\n",
       "      <td>-86.770628</td>\n",
       "      <td>HIGH RISE NATURAL GAS ODOR</td>\n",
       "    </tr>\n",
       "    <tr>\n",
       "      <td>623</td>\n",
       "      <td>5/4/2020 12:21:32 AM</td>\n",
       "      <td>518 BRENTLAWN DR</td>\n",
       "      <td>36.064362</td>\n",
       "      <td>-86.761199</td>\n",
       "      <td>UNKNOWN STATUS</td>\n",
       "    </tr>\n",
       "    <tr>\n",
       "      <td>624</td>\n",
       "      <td>5/4/2020 12:22:47 AM</td>\n",
       "      <td>517 ALBANY DR</td>\n",
       "      <td>36.212754</td>\n",
       "      <td>-86.600431</td>\n",
       "      <td>ELECTRICAL HAZARD</td>\n",
       "    </tr>\n",
       "    <tr>\n",
       "      <td>625</td>\n",
       "      <td>5/4/2020 12:27:52 AM</td>\n",
       "      <td>639 LAFAYETTE ST</td>\n",
       "      <td>36.153769</td>\n",
       "      <td>-86.777520</td>\n",
       "      <td>SICK PERSON: NO PRIORITY SYMPTOMS</td>\n",
       "    </tr>\n",
       "    <tr>\n",
       "      <td>626</td>\n",
       "      <td>5/4/2020 12:29:50 AM</td>\n",
       "      <td>2011 HAYES ST</td>\n",
       "      <td>36.151839</td>\n",
       "      <td>-86.800791</td>\n",
       "      <td>PULL STATION ALARM COMMERCIAL   INDUSTRIAL BUILD</td>\n",
       "    </tr>\n",
       "  </tbody>\n",
       "</table>\n",
       "</div>"
      ],
      "text/plain": [
       "             IncidentDate          Location  Latitude1  Longitude1  \\\n",
       "622  5/4/2020 12:21:00 AM     625 BENTON AV  36.131384  -86.770628   \n",
       "623  5/4/2020 12:21:32 AM  518 BRENTLAWN DR  36.064362  -86.761199   \n",
       "624  5/4/2020 12:22:47 AM     517 ALBANY DR  36.212754  -86.600431   \n",
       "625  5/4/2020 12:27:52 AM  639 LAFAYETTE ST  36.153769  -86.777520   \n",
       "626  5/4/2020 12:29:50 AM    2011 HAYES ST   36.151839  -86.800791   \n",
       "\n",
       "                             IncidentTypeDescription1  \n",
       "622                        HIGH RISE NATURAL GAS ODOR  \n",
       "623                                    UNKNOWN STATUS  \n",
       "624                                 ELECTRICAL HAZARD  \n",
       "625                 SICK PERSON: NO PRIORITY SYMPTOMS  \n",
       "626  PULL STATION ALARM COMMERCIAL   INDUSTRIAL BUILD  "
      ]
     },
     "execution_count": 10,
     "metadata": {},
     "output_type": "execute_result"
    }
   ],
   "source": [
    "derecho_dispatch.tail(5)"
   ]
  },
  {
   "cell_type": "code",
   "execution_count": 11,
   "metadata": {},
   "outputs": [
    {
     "name": "stdout",
     "output_type": "stream",
     "text": [
      "<class 'pandas.core.frame.DataFrame'>\n",
      "RangeIndex: 627 entries, 0 to 626\n",
      "Data columns (total 5 columns):\n",
      "IncidentDate                627 non-null object\n",
      "Location                    627 non-null object\n",
      "Latitude1                   627 non-null float64\n",
      "Longitude1                  627 non-null float64\n",
      "IncidentTypeDescription1    627 non-null object\n",
      "dtypes: float64(2), object(3)\n",
      "memory usage: 24.6+ KB\n"
     ]
    }
   ],
   "source": [
    "derecho_dispatch.info()"
   ]
  },
  {
   "cell_type": "code",
   "execution_count": 12,
   "metadata": {},
   "outputs": [
    {
     "data": {
      "text/plain": [
       "(627, 5)"
      ]
     },
     "execution_count": 12,
     "metadata": {},
     "output_type": "execute_result"
    }
   ],
   "source": [
    "derecho_dispatch.shape"
   ]
  },
  {
   "cell_type": "code",
   "execution_count": 13,
   "metadata": {},
   "outputs": [],
   "source": [
    "tornado_911 = pd.read_csv('../data/911_Phone_Calls_Tornado_030320.csv')"
   ]
  },
  {
   "cell_type": "code",
   "execution_count": 14,
   "metadata": {},
   "outputs": [
    {
     "data": {
      "text/html": [
       "<div>\n",
       "<style scoped>\n",
       "    .dataframe tbody tr th:only-of-type {\n",
       "        vertical-align: middle;\n",
       "    }\n",
       "\n",
       "    .dataframe tbody tr th {\n",
       "        vertical-align: top;\n",
       "    }\n",
       "\n",
       "    .dataframe thead th {\n",
       "        text-align: right;\n",
       "    }\n",
       "</style>\n",
       "<table border=\"1\" class=\"dataframe\">\n",
       "  <thead>\n",
       "    <tr style=\"text-align: right;\">\n",
       "      <th></th>\n",
       "      <th>Seizure DateTime</th>\n",
       "      <th>CallTypeId</th>\n",
       "      <th>ALI Latitude</th>\n",
       "      <th>ALI Longitude</th>\n",
       "      <th>Cell Tower Address</th>\n",
       "    </tr>\n",
       "  </thead>\n",
       "  <tbody>\n",
       "    <tr>\n",
       "      <td>0</td>\n",
       "      <td>3/3/2020 0:34</td>\n",
       "      <td>911 Calls</td>\n",
       "      <td>36.072708</td>\n",
       "      <td>-86.665779</td>\n",
       "      <td>620 Richards RD - N Sector</td>\n",
       "    </tr>\n",
       "    <tr>\n",
       "      <td>1</td>\n",
       "      <td>3/3/2020 0:36</td>\n",
       "      <td>911 Calls</td>\n",
       "      <td>36.159634</td>\n",
       "      <td>-86.841904</td>\n",
       "      <td>4507D KENTUCKY AV - SE</td>\n",
       "    </tr>\n",
       "    <tr>\n",
       "      <td>2</td>\n",
       "      <td>3/3/2020 0:36</td>\n",
       "      <td>911 Calls</td>\n",
       "      <td>36.264153</td>\n",
       "      <td>-86.708862</td>\n",
       "      <td>329 THELMA ST - S Sector</td>\n",
       "    </tr>\n",
       "    <tr>\n",
       "      <td>3</td>\n",
       "      <td>3/3/2020 0:36</td>\n",
       "      <td>911 Calls</td>\n",
       "      <td>NaN</td>\n",
       "      <td>NaN</td>\n",
       "      <td>526 FOUNDRY DR</td>\n",
       "    </tr>\n",
       "    <tr>\n",
       "      <td>4</td>\n",
       "      <td>3/3/2020 0:36</td>\n",
       "      <td>911 Calls</td>\n",
       "      <td>36.233467</td>\n",
       "      <td>-86.721077</td>\n",
       "      <td>5007B RUSKIN AVE - N</td>\n",
       "    </tr>\n",
       "  </tbody>\n",
       "</table>\n",
       "</div>"
      ],
      "text/plain": [
       "  Seizure DateTime CallTypeId  ALI Latitude  ALI Longitude  \\\n",
       "0    3/3/2020 0:34  911 Calls     36.072708     -86.665779   \n",
       "1    3/3/2020 0:36  911 Calls     36.159634     -86.841904   \n",
       "2    3/3/2020 0:36  911 Calls     36.264153     -86.708862   \n",
       "3    3/3/2020 0:36  911 Calls           NaN            NaN   \n",
       "4    3/3/2020 0:36  911 Calls     36.233467     -86.721077   \n",
       "\n",
       "           Cell Tower Address  \n",
       "0  620 Richards RD - N Sector  \n",
       "1      4507D KENTUCKY AV - SE  \n",
       "2    329 THELMA ST - S Sector  \n",
       "3              526 FOUNDRY DR  \n",
       "4        5007B RUSKIN AVE - N  "
      ]
     },
     "execution_count": 14,
     "metadata": {},
     "output_type": "execute_result"
    }
   ],
   "source": [
    "tornado_911.head(5)"
   ]
  },
  {
   "cell_type": "code",
   "execution_count": 15,
   "metadata": {},
   "outputs": [
    {
     "data": {
      "text/html": [
       "<div>\n",
       "<style scoped>\n",
       "    .dataframe tbody tr th:only-of-type {\n",
       "        vertical-align: middle;\n",
       "    }\n",
       "\n",
       "    .dataframe tbody tr th {\n",
       "        vertical-align: top;\n",
       "    }\n",
       "\n",
       "    .dataframe thead th {\n",
       "        text-align: right;\n",
       "    }\n",
       "</style>\n",
       "<table border=\"1\" class=\"dataframe\">\n",
       "  <thead>\n",
       "    <tr style=\"text-align: right;\">\n",
       "      <th></th>\n",
       "      <th>Seizure DateTime</th>\n",
       "      <th>CallTypeId</th>\n",
       "      <th>ALI Latitude</th>\n",
       "      <th>ALI Longitude</th>\n",
       "      <th>Cell Tower Address</th>\n",
       "    </tr>\n",
       "  </thead>\n",
       "  <tbody>\n",
       "    <tr>\n",
       "      <td>470</td>\n",
       "      <td>3/3/2020 4:54</td>\n",
       "      <td>911 Calls</td>\n",
       "      <td>36.142552</td>\n",
       "      <td>-86.635330</td>\n",
       "      <td>WIRELESS CALLER</td>\n",
       "    </tr>\n",
       "    <tr>\n",
       "      <td>471</td>\n",
       "      <td>3/3/2020 4:54</td>\n",
       "      <td>911 Calls</td>\n",
       "      <td>36.189415</td>\n",
       "      <td>-86.813557</td>\n",
       "      <td>WIRELESS CALLER</td>\n",
       "    </tr>\n",
       "    <tr>\n",
       "      <td>472</td>\n",
       "      <td>3/3/2020 4:55</td>\n",
       "      <td>911 Calls</td>\n",
       "      <td>36.223534</td>\n",
       "      <td>-86.757874</td>\n",
       "      <td>WIRELESS CALLER</td>\n",
       "    </tr>\n",
       "    <tr>\n",
       "      <td>473</td>\n",
       "      <td>3/3/2020 4:56</td>\n",
       "      <td>911 Calls</td>\n",
       "      <td>36.168398</td>\n",
       "      <td>-86.783774</td>\n",
       "      <td>600 DR MARTIN L KING JR BLVD - NE</td>\n",
       "    </tr>\n",
       "    <tr>\n",
       "      <td>474</td>\n",
       "      <td>3/3/2020 4:58</td>\n",
       "      <td>911 Calls</td>\n",
       "      <td>36.276566</td>\n",
       "      <td>-86.799417</td>\n",
       "      <td>4884 LICKTON PIKE - SE</td>\n",
       "    </tr>\n",
       "  </tbody>\n",
       "</table>\n",
       "</div>"
      ],
      "text/plain": [
       "    Seizure DateTime CallTypeId  ALI Latitude  ALI Longitude  \\\n",
       "470    3/3/2020 4:54  911 Calls     36.142552     -86.635330   \n",
       "471    3/3/2020 4:54  911 Calls     36.189415     -86.813557   \n",
       "472    3/3/2020 4:55  911 Calls     36.223534     -86.757874   \n",
       "473    3/3/2020 4:56  911 Calls     36.168398     -86.783774   \n",
       "474    3/3/2020 4:58  911 Calls     36.276566     -86.799417   \n",
       "\n",
       "                    Cell Tower Address  \n",
       "470                    WIRELESS CALLER  \n",
       "471                    WIRELESS CALLER  \n",
       "472                    WIRELESS CALLER  \n",
       "473  600 DR MARTIN L KING JR BLVD - NE  \n",
       "474             4884 LICKTON PIKE - SE  "
      ]
     },
     "execution_count": 15,
     "metadata": {},
     "output_type": "execute_result"
    }
   ],
   "source": [
    "tornado_911.tail(5)"
   ]
  },
  {
   "cell_type": "code",
   "execution_count": 16,
   "metadata": {},
   "outputs": [
    {
     "name": "stdout",
     "output_type": "stream",
     "text": [
      "<class 'pandas.core.frame.DataFrame'>\n",
      "RangeIndex: 475 entries, 0 to 474\n",
      "Data columns (total 5 columns):\n",
      "Seizure DateTime      475 non-null object\n",
      "CallTypeId            475 non-null object\n",
      "ALI Latitude          450 non-null float64\n",
      "ALI Longitude         450 non-null float64\n",
      "Cell Tower Address    468 non-null object\n",
      "dtypes: float64(2), object(3)\n",
      "memory usage: 18.7+ KB\n"
     ]
    }
   ],
   "source": [
    "tornado_911.info()"
   ]
  },
  {
   "cell_type": "code",
   "execution_count": 17,
   "metadata": {},
   "outputs": [
    {
     "data": {
      "text/plain": [
       "(475, 5)"
      ]
     },
     "execution_count": 17,
     "metadata": {},
     "output_type": "execute_result"
    }
   ],
   "source": [
    "tornado_911.shape"
   ]
  },
  {
   "cell_type": "code",
   "execution_count": 18,
   "metadata": {},
   "outputs": [
    {
     "data": {
      "text/plain": [
       "Seizure DateTime       0\n",
       "CallTypeId             0\n",
       "ALI Latitude          25\n",
       "ALI Longitude         25\n",
       "Cell Tower Address     7\n",
       "dtype: int64"
      ]
     },
     "execution_count": 18,
     "metadata": {},
     "output_type": "execute_result"
    }
   ],
   "source": [
    " tornado_911.isnull().sum()"
   ]
  },
  {
   "cell_type": "code",
   "execution_count": 19,
   "metadata": {},
   "outputs": [],
   "source": [
    "tornado_dispatch = pd.read_csv('../data/Computer Aided Dispatch Data_Tornado Incidents 030320.csv', skiprows=2)\n"
   ]
  },
  {
   "cell_type": "code",
   "execution_count": 20,
   "metadata": {},
   "outputs": [
    {
     "data": {
      "text/html": [
       "<div>\n",
       "<style scoped>\n",
       "    .dataframe tbody tr th:only-of-type {\n",
       "        vertical-align: middle;\n",
       "    }\n",
       "\n",
       "    .dataframe tbody tr th {\n",
       "        vertical-align: top;\n",
       "    }\n",
       "\n",
       "    .dataframe thead th {\n",
       "        text-align: right;\n",
       "    }\n",
       "</style>\n",
       "<table border=\"1\" class=\"dataframe\">\n",
       "  <thead>\n",
       "    <tr style=\"text-align: right;\">\n",
       "      <th></th>\n",
       "      <th>IncidentDate</th>\n",
       "      <th>Location</th>\n",
       "      <th>Latitude1</th>\n",
       "      <th>Longitude1</th>\n",
       "      <th>IncidentTypeDescription1</th>\n",
       "    </tr>\n",
       "  </thead>\n",
       "  <tbody>\n",
       "    <tr>\n",
       "      <td>0</td>\n",
       "      <td>3/3/2020 12:36:34 AM</td>\n",
       "      <td>6205 COCKRILL BEND CIR</td>\n",
       "      <td>36.182002</td>\n",
       "      <td>-86.894052</td>\n",
       "      <td>GENERAL ALARM COMMERCIAL   INDUSTRIAL BUILD</td>\n",
       "    </tr>\n",
       "    <tr>\n",
       "      <td>1</td>\n",
       "      <td>3/3/2020 12:37:24 AM</td>\n",
       "      <td>7337 COCKRILL BEND BLVD</td>\n",
       "      <td>36.175666</td>\n",
       "      <td>-86.894978</td>\n",
       "      <td>GENERAL ALARM COMMERCIAL   INDUSTRIAL BUILD</td>\n",
       "    </tr>\n",
       "    <tr>\n",
       "      <td>2</td>\n",
       "      <td>3/3/2020 12:38:17 AM</td>\n",
       "      <td>110 TUNE AIRPORT DR</td>\n",
       "      <td>36.179299</td>\n",
       "      <td>-86.883727</td>\n",
       "      <td>STRUCTURE FIRE COMMERCIAL   INDUSTRIAL</td>\n",
       "    </tr>\n",
       "    <tr>\n",
       "      <td>3</td>\n",
       "      <td>3/3/2020 12:39:40 AM</td>\n",
       "      <td>555 MARRIOTT DR</td>\n",
       "      <td>36.151108</td>\n",
       "      <td>-86.689921</td>\n",
       "      <td>GENERAL ALARM COMMERCIAL   INDUSTRIAL BUILD</td>\n",
       "    </tr>\n",
       "    <tr>\n",
       "      <td>4</td>\n",
       "      <td>3/3/2020 12:39:42 AM</td>\n",
       "      <td>1414 COUNTY HOSPITAL RD</td>\n",
       "      <td>36.177926</td>\n",
       "      <td>-86.845934</td>\n",
       "      <td>GENERAL ALARM COMMERCIAL   INDUSTRIAL BUILD</td>\n",
       "    </tr>\n",
       "    <tr>\n",
       "      <td>5</td>\n",
       "      <td>3/3/2020 12:40:11 AM</td>\n",
       "      <td>1406 COUNTY HOSPITAL RD</td>\n",
       "      <td>36.178264</td>\n",
       "      <td>-86.850464</td>\n",
       "      <td>GENERAL ALARM COMMERCIAL   INDUSTRIAL BUILD</td>\n",
       "    </tr>\n",
       "    <tr>\n",
       "      <td>6</td>\n",
       "      <td>3/3/2020 12:41:31 AM</td>\n",
       "      <td>920 BROADWAY</td>\n",
       "      <td>36.158347</td>\n",
       "      <td>-86.784207</td>\n",
       "      <td>GENERAL ALARM COMMERCIAL   INDUSTRIAL BUILD</td>\n",
       "    </tr>\n",
       "    <tr>\n",
       "      <td>7</td>\n",
       "      <td>3/3/2020 12:42:30 AM</td>\n",
       "      <td>518 MONROE ST</td>\n",
       "      <td>36.176519</td>\n",
       "      <td>-86.790233</td>\n",
       "      <td>GENERAL ALARM COMMERCIAL   INDUSTRIAL BUILD</td>\n",
       "    </tr>\n",
       "    <tr>\n",
       "      <td>8</td>\n",
       "      <td>3/3/2020 12:42:51 AM</td>\n",
       "      <td>1625 DR D B TODD JR BLVD</td>\n",
       "      <td>36.175630</td>\n",
       "      <td>-86.809654</td>\n",
       "      <td>GENERAL ALARM COMMERCIAL   INDUSTRIAL BUILD</td>\n",
       "    </tr>\n",
       "    <tr>\n",
       "      <td>9</td>\n",
       "      <td>3/3/2020 12:42:51 AM</td>\n",
       "      <td>1625 DR D B TODD JR BLVD</td>\n",
       "      <td>36.175630</td>\n",
       "      <td>-86.809654</td>\n",
       "      <td>GENERAL ALARM COMMERCIAL   INDUSTRIAL BUILD</td>\n",
       "    </tr>\n",
       "  </tbody>\n",
       "</table>\n",
       "</div>"
      ],
      "text/plain": [
       "           IncidentDate                   Location  Latitude1  Longitude1  \\\n",
       "0  3/3/2020 12:36:34 AM    6205 COCKRILL BEND CIR   36.182002  -86.894052   \n",
       "1  3/3/2020 12:37:24 AM   7337 COCKRILL BEND BLVD   36.175666  -86.894978   \n",
       "2  3/3/2020 12:38:17 AM       110 TUNE AIRPORT DR   36.179299  -86.883727   \n",
       "3  3/3/2020 12:39:40 AM           555 MARRIOTT DR   36.151108  -86.689921   \n",
       "4  3/3/2020 12:39:42 AM   1414 COUNTY HOSPITAL RD   36.177926  -86.845934   \n",
       "5  3/3/2020 12:40:11 AM   1406 COUNTY HOSPITAL RD   36.178264  -86.850464   \n",
       "6  3/3/2020 12:41:31 AM              920 BROADWAY   36.158347  -86.784207   \n",
       "7  3/3/2020 12:42:30 AM             518 MONROE ST   36.176519  -86.790233   \n",
       "8  3/3/2020 12:42:51 AM  1625 DR D B TODD JR BLVD   36.175630  -86.809654   \n",
       "9  3/3/2020 12:42:51 AM  1625 DR D B TODD JR BLVD   36.175630  -86.809654   \n",
       "\n",
       "                      IncidentTypeDescription1  \n",
       "0  GENERAL ALARM COMMERCIAL   INDUSTRIAL BUILD  \n",
       "1  GENERAL ALARM COMMERCIAL   INDUSTRIAL BUILD  \n",
       "2       STRUCTURE FIRE COMMERCIAL   INDUSTRIAL  \n",
       "3  GENERAL ALARM COMMERCIAL   INDUSTRIAL BUILD  \n",
       "4  GENERAL ALARM COMMERCIAL   INDUSTRIAL BUILD  \n",
       "5  GENERAL ALARM COMMERCIAL   INDUSTRIAL BUILD  \n",
       "6  GENERAL ALARM COMMERCIAL   INDUSTRIAL BUILD  \n",
       "7  GENERAL ALARM COMMERCIAL   INDUSTRIAL BUILD  \n",
       "8  GENERAL ALARM COMMERCIAL   INDUSTRIAL BUILD  \n",
       "9  GENERAL ALARM COMMERCIAL   INDUSTRIAL BUILD  "
      ]
     },
     "execution_count": 20,
     "metadata": {},
     "output_type": "execute_result"
    }
   ],
   "source": [
    "tornado_dispatch.head(10)"
   ]
  },
  {
   "cell_type": "code",
   "execution_count": 21,
   "metadata": {},
   "outputs": [
    {
     "data": {
      "text/html": [
       "<div>\n",
       "<style scoped>\n",
       "    .dataframe tbody tr th:only-of-type {\n",
       "        vertical-align: middle;\n",
       "    }\n",
       "\n",
       "    .dataframe tbody tr th {\n",
       "        vertical-align: top;\n",
       "    }\n",
       "\n",
       "    .dataframe thead th {\n",
       "        text-align: right;\n",
       "    }\n",
       "</style>\n",
       "<table border=\"1\" class=\"dataframe\">\n",
       "  <thead>\n",
       "    <tr style=\"text-align: right;\">\n",
       "      <th></th>\n",
       "      <th>IncidentDate</th>\n",
       "      <th>Location</th>\n",
       "      <th>Latitude1</th>\n",
       "      <th>Longitude1</th>\n",
       "      <th>IncidentTypeDescription1</th>\n",
       "    </tr>\n",
       "  </thead>\n",
       "  <tbody>\n",
       "    <tr>\n",
       "      <td>255</td>\n",
       "      <td>3/3/2020 4:53:43 AM</td>\n",
       "      <td>1616 23RD AV N</td>\n",
       "      <td>36.175739</td>\n",
       "      <td>-86.813173</td>\n",
       "      <td>WIRES DOWN WITH NO SMOKE OR ARCING POWER DISCO...</td>\n",
       "    </tr>\n",
       "    <tr>\n",
       "      <td>256</td>\n",
       "      <td>3/3/2020 4:56:56 AM</td>\n",
       "      <td>5610 OLD HICKORY BLVD</td>\n",
       "      <td>36.180487</td>\n",
       "      <td>-86.601466</td>\n",
       "      <td>LARGE BUILDING INVESTIGATION</td>\n",
       "    </tr>\n",
       "    <tr>\n",
       "      <td>257</td>\n",
       "      <td>3/3/2020 4:57:06 AM</td>\n",
       "      <td>2903 MORNINGSIDE DR</td>\n",
       "      <td>36.223554</td>\n",
       "      <td>-86.757949</td>\n",
       "      <td>CHEST PAIN - ABNORMAL BREATHING</td>\n",
       "    </tr>\n",
       "    <tr>\n",
       "      <td>258</td>\n",
       "      <td>3/3/2020 4:57:14 AM</td>\n",
       "      <td>1730 KELLOW ST</td>\n",
       "      <td>36.189445</td>\n",
       "      <td>-86.813466</td>\n",
       "      <td>ABNORMAL BREATHING OTHER LUNG PROBLEMS</td>\n",
       "    </tr>\n",
       "    <tr>\n",
       "      <td>259</td>\n",
       "      <td>3/3/2020 4:57:48 AM</td>\n",
       "      <td>I24 W / HICKORY HOLLOW PKWY</td>\n",
       "      <td>36.039720</td>\n",
       "      <td>-86.649099</td>\n",
       "      <td>UNKNOWN STATUS:</td>\n",
       "    </tr>\n",
       "  </tbody>\n",
       "</table>\n",
       "</div>"
      ],
      "text/plain": [
       "            IncidentDate                     Location  Latitude1  Longitude1  \\\n",
       "255  3/3/2020 4:53:43 AM               1616 23RD AV N  36.175739  -86.813173   \n",
       "256  3/3/2020 4:56:56 AM        5610 OLD HICKORY BLVD  36.180487  -86.601466   \n",
       "257  3/3/2020 4:57:06 AM          2903 MORNINGSIDE DR  36.223554  -86.757949   \n",
       "258  3/3/2020 4:57:14 AM               1730 KELLOW ST  36.189445  -86.813466   \n",
       "259  3/3/2020 4:57:48 AM  I24 W / HICKORY HOLLOW PKWY  36.039720  -86.649099   \n",
       "\n",
       "                              IncidentTypeDescription1  \n",
       "255  WIRES DOWN WITH NO SMOKE OR ARCING POWER DISCO...  \n",
       "256                       LARGE BUILDING INVESTIGATION  \n",
       "257                    CHEST PAIN - ABNORMAL BREATHING  \n",
       "258             ABNORMAL BREATHING OTHER LUNG PROBLEMS  \n",
       "259                                    UNKNOWN STATUS:  "
      ]
     },
     "execution_count": 21,
     "metadata": {},
     "output_type": "execute_result"
    }
   ],
   "source": [
    "tornado_dispatch.tail(5)"
   ]
  },
  {
   "cell_type": "code",
   "execution_count": 22,
   "metadata": {},
   "outputs": [
    {
     "name": "stdout",
     "output_type": "stream",
     "text": [
      "<class 'pandas.core.frame.DataFrame'>\n",
      "RangeIndex: 260 entries, 0 to 259\n",
      "Data columns (total 5 columns):\n",
      "IncidentDate                260 non-null object\n",
      "Location                    260 non-null object\n",
      "Latitude1                   260 non-null float64\n",
      "Longitude1                  260 non-null float64\n",
      "IncidentTypeDescription1    260 non-null object\n",
      "dtypes: float64(2), object(3)\n",
      "memory usage: 10.3+ KB\n"
     ]
    }
   ],
   "source": [
    "tornado_dispatch.info()"
   ]
  },
  {
   "cell_type": "markdown",
   "metadata": {},
   "source": [
    "A timeline of Derecho Beginning and end of the event Times of stronger storm impacts, based on call volumes\n",
    "- every 30 mins"
   ]
  },
  {
   "cell_type": "code",
   "execution_count": 23,
   "metadata": {},
   "outputs": [
    {
     "name": "stdout",
     "output_type": "stream",
     "text": [
      "Seizure DateTime       object\n",
      "CallTypeId             object\n",
      "ALI Latitude          float64\n",
      "ALI Longitude         float64\n",
      "Cell Tower Address     object\n",
      "dtype: object\n"
     ]
    }
   ],
   "source": [
    "print(derecho_911.dtypes)"
   ]
  },
  {
   "cell_type": "code",
   "execution_count": 24,
   "metadata": {},
   "outputs": [],
   "source": [
    "derecho_911['Seizure DateTime'] = pd.to_datetime(derecho_911['Seizure DateTime'])\n",
    "derecho_15min = derecho_911.resample('15min', on='Seizure DateTime').CallTypeId.count()\n"
   ]
  },
  {
   "cell_type": "code",
   "execution_count": 25,
   "metadata": {},
   "outputs": [],
   "source": [
    "#change series of mins interval to dataframe\n",
    "derecho_15min = pd.DataFrame({'time interval':derecho_15min.index, 'calls':derecho_15min.values})\n"
   ]
  },
  {
   "cell_type": "code",
   "execution_count": 26,
   "metadata": {},
   "outputs": [
    {
     "data": {
      "text/html": [
       "<div>\n",
       "<style scoped>\n",
       "    .dataframe tbody tr th:only-of-type {\n",
       "        vertical-align: middle;\n",
       "    }\n",
       "\n",
       "    .dataframe tbody tr th {\n",
       "        vertical-align: top;\n",
       "    }\n",
       "\n",
       "    .dataframe thead th {\n",
       "        text-align: right;\n",
       "    }\n",
       "</style>\n",
       "<table border=\"1\" class=\"dataframe\">\n",
       "  <thead>\n",
       "    <tr style=\"text-align: right;\">\n",
       "      <th></th>\n",
       "      <th>time interval</th>\n",
       "      <th>calls</th>\n",
       "    </tr>\n",
       "  </thead>\n",
       "  <tbody>\n",
       "    <tr>\n",
       "      <td>0</td>\n",
       "      <td>2020-05-03 16:30:00</td>\n",
       "      <td>73</td>\n",
       "    </tr>\n",
       "    <tr>\n",
       "      <td>1</td>\n",
       "      <td>2020-05-03 16:45:00</td>\n",
       "      <td>69</td>\n",
       "    </tr>\n",
       "    <tr>\n",
       "      <td>2</td>\n",
       "      <td>2020-05-03 17:00:00</td>\n",
       "      <td>67</td>\n",
       "    </tr>\n",
       "    <tr>\n",
       "      <td>3</td>\n",
       "      <td>2020-05-03 17:15:00</td>\n",
       "      <td>63</td>\n",
       "    </tr>\n",
       "    <tr>\n",
       "      <td>4</td>\n",
       "      <td>2020-05-03 17:30:00</td>\n",
       "      <td>67</td>\n",
       "    </tr>\n",
       "    <tr>\n",
       "      <td>5</td>\n",
       "      <td>2020-05-03 17:45:00</td>\n",
       "      <td>85</td>\n",
       "    </tr>\n",
       "    <tr>\n",
       "      <td>6</td>\n",
       "      <td>2020-05-03 18:00:00</td>\n",
       "      <td>70</td>\n",
       "    </tr>\n",
       "    <tr>\n",
       "      <td>7</td>\n",
       "      <td>2020-05-03 18:15:00</td>\n",
       "      <td>85</td>\n",
       "    </tr>\n",
       "    <tr>\n",
       "      <td>8</td>\n",
       "      <td>2020-05-03 18:30:00</td>\n",
       "      <td>84</td>\n",
       "    </tr>\n",
       "    <tr>\n",
       "      <td>9</td>\n",
       "      <td>2020-05-03 18:45:00</td>\n",
       "      <td>112</td>\n",
       "    </tr>\n",
       "    <tr>\n",
       "      <td>10</td>\n",
       "      <td>2020-05-03 19:00:00</td>\n",
       "      <td>71</td>\n",
       "    </tr>\n",
       "    <tr>\n",
       "      <td>11</td>\n",
       "      <td>2020-05-03 19:15:00</td>\n",
       "      <td>82</td>\n",
       "    </tr>\n",
       "    <tr>\n",
       "      <td>12</td>\n",
       "      <td>2020-05-03 19:30:00</td>\n",
       "      <td>56</td>\n",
       "    </tr>\n",
       "    <tr>\n",
       "      <td>13</td>\n",
       "      <td>2020-05-03 19:45:00</td>\n",
       "      <td>58</td>\n",
       "    </tr>\n",
       "    <tr>\n",
       "      <td>14</td>\n",
       "      <td>2020-05-03 20:00:00</td>\n",
       "      <td>54</td>\n",
       "    </tr>\n",
       "    <tr>\n",
       "      <td>15</td>\n",
       "      <td>2020-05-03 20:15:00</td>\n",
       "      <td>58</td>\n",
       "    </tr>\n",
       "    <tr>\n",
       "      <td>16</td>\n",
       "      <td>2020-05-03 20:30:00</td>\n",
       "      <td>37</td>\n",
       "    </tr>\n",
       "    <tr>\n",
       "      <td>17</td>\n",
       "      <td>2020-05-03 20:45:00</td>\n",
       "      <td>40</td>\n",
       "    </tr>\n",
       "    <tr>\n",
       "      <td>18</td>\n",
       "      <td>2020-05-03 21:00:00</td>\n",
       "      <td>34</td>\n",
       "    </tr>\n",
       "    <tr>\n",
       "      <td>19</td>\n",
       "      <td>2020-05-03 21:15:00</td>\n",
       "      <td>32</td>\n",
       "    </tr>\n",
       "    <tr>\n",
       "      <td>20</td>\n",
       "      <td>2020-05-03 21:30:00</td>\n",
       "      <td>29</td>\n",
       "    </tr>\n",
       "    <tr>\n",
       "      <td>21</td>\n",
       "      <td>2020-05-03 21:45:00</td>\n",
       "      <td>27</td>\n",
       "    </tr>\n",
       "    <tr>\n",
       "      <td>22</td>\n",
       "      <td>2020-05-03 22:00:00</td>\n",
       "      <td>27</td>\n",
       "    </tr>\n",
       "    <tr>\n",
       "      <td>23</td>\n",
       "      <td>2020-05-03 22:15:00</td>\n",
       "      <td>51</td>\n",
       "    </tr>\n",
       "    <tr>\n",
       "      <td>24</td>\n",
       "      <td>2020-05-03 22:30:00</td>\n",
       "      <td>31</td>\n",
       "    </tr>\n",
       "    <tr>\n",
       "      <td>25</td>\n",
       "      <td>2020-05-03 22:45:00</td>\n",
       "      <td>22</td>\n",
       "    </tr>\n",
       "    <tr>\n",
       "      <td>26</td>\n",
       "      <td>2020-05-03 23:00:00</td>\n",
       "      <td>14</td>\n",
       "    </tr>\n",
       "    <tr>\n",
       "      <td>27</td>\n",
       "      <td>2020-05-03 23:15:00</td>\n",
       "      <td>11</td>\n",
       "    </tr>\n",
       "    <tr>\n",
       "      <td>28</td>\n",
       "      <td>2020-05-03 23:30:00</td>\n",
       "      <td>10</td>\n",
       "    </tr>\n",
       "    <tr>\n",
       "      <td>29</td>\n",
       "      <td>2020-05-03 23:45:00</td>\n",
       "      <td>13</td>\n",
       "    </tr>\n",
       "    <tr>\n",
       "      <td>30</td>\n",
       "      <td>2020-05-04 00:00:00</td>\n",
       "      <td>9</td>\n",
       "    </tr>\n",
       "    <tr>\n",
       "      <td>31</td>\n",
       "      <td>2020-05-04 00:15:00</td>\n",
       "      <td>8</td>\n",
       "    </tr>\n",
       "  </tbody>\n",
       "</table>\n",
       "</div>"
      ],
      "text/plain": [
       "         time interval  calls\n",
       "0  2020-05-03 16:30:00     73\n",
       "1  2020-05-03 16:45:00     69\n",
       "2  2020-05-03 17:00:00     67\n",
       "3  2020-05-03 17:15:00     63\n",
       "4  2020-05-03 17:30:00     67\n",
       "5  2020-05-03 17:45:00     85\n",
       "6  2020-05-03 18:00:00     70\n",
       "7  2020-05-03 18:15:00     85\n",
       "8  2020-05-03 18:30:00     84\n",
       "9  2020-05-03 18:45:00    112\n",
       "10 2020-05-03 19:00:00     71\n",
       "11 2020-05-03 19:15:00     82\n",
       "12 2020-05-03 19:30:00     56\n",
       "13 2020-05-03 19:45:00     58\n",
       "14 2020-05-03 20:00:00     54\n",
       "15 2020-05-03 20:15:00     58\n",
       "16 2020-05-03 20:30:00     37\n",
       "17 2020-05-03 20:45:00     40\n",
       "18 2020-05-03 21:00:00     34\n",
       "19 2020-05-03 21:15:00     32\n",
       "20 2020-05-03 21:30:00     29\n",
       "21 2020-05-03 21:45:00     27\n",
       "22 2020-05-03 22:00:00     27\n",
       "23 2020-05-03 22:15:00     51\n",
       "24 2020-05-03 22:30:00     31\n",
       "25 2020-05-03 22:45:00     22\n",
       "26 2020-05-03 23:00:00     14\n",
       "27 2020-05-03 23:15:00     11\n",
       "28 2020-05-03 23:30:00     10\n",
       "29 2020-05-03 23:45:00     13\n",
       "30 2020-05-04 00:00:00      9\n",
       "31 2020-05-04 00:15:00      8"
      ]
     },
     "execution_count": 26,
     "metadata": {},
     "output_type": "execute_result"
    }
   ],
   "source": [
    "derecho_15min"
   ]
  },
  {
   "cell_type": "markdown",
   "metadata": {},
   "source": [
    "Geospatial map of derecho impact based on call volume \n",
    "- plot geographic path"
   ]
  },
  {
   "cell_type": "code",
   "execution_count": 31,
   "metadata": {},
   "outputs": [
    {
     "data": {
      "text/plain": [
       "array([[<matplotlib.axes._subplots.AxesSubplot object at 0x000002ABCF454048>]],\n",
       "      dtype=object)"
      ]
     },
     "execution_count": 31,
     "metadata": {},
     "output_type": "execute_result"
    },
    {
     "data": {
      "image/png": "[encoded data removed]",
      "text/plain": [
       "<Figure size 432x288 with 1 Axes>"
      ]
     },
     "metadata": {
      "needs_background": "light"
     },
     "output_type": "display_data"
    }
   ],
   "source": [
    "# explore distribution using histogram\n",
    "\n",
    "derecho_15min.hist(column='calls')"
   ]
  },
  {
   "cell_type": "code",
   "execution_count": 32,
   "metadata": {},
   "outputs": [
    {
     "data": {
      "text/plain": [
       "<matplotlib.axes._subplots.AxesSubplot at 0x2abcbd3ed08>"
      ]
     },
     "execution_count": 32,
     "metadata": {},
     "output_type": "execute_result"
    },
    {
     "data": {
      "image/png": "[encoded data removed]",
      "text/plain": [
       "<Figure size 432x288 with 1 Axes>"
      ]
     },
     "metadata": {
      "needs_background": "light"
     },
     "output_type": "display_data"
    }
   ],
   "source": [
    "#reset index after resample\n",
    "derecho_15min.reset_index().plot(x='index', y='calls')"
   ]
  },
  {
   "cell_type": "code",
   "execution_count": 33,
   "metadata": {},
   "outputs": [],
   "source": [
    "derecho_peak = derecho_15min.iloc[8:17] "
   ]
  },
  {
   "cell_type": "code",
   "execution_count": 34,
   "metadata": {},
   "outputs": [
    {
     "data": {
      "text/html": [
       "<div>\n",
       "<style scoped>\n",
       "    .dataframe tbody tr th:only-of-type {\n",
       "        vertical-align: middle;\n",
       "    }\n",
       "\n",
       "    .dataframe tbody tr th {\n",
       "        vertical-align: top;\n",
       "    }\n",
       "\n",
       "    .dataframe thead th {\n",
       "        text-align: right;\n",
       "    }\n",
       "</style>\n",
       "<table border=\"1\" class=\"dataframe\">\n",
       "  <thead>\n",
       "    <tr style=\"text-align: right;\">\n",
       "      <th></th>\n",
       "      <th>time interval</th>\n",
       "      <th>calls</th>\n",
       "    </tr>\n",
       "  </thead>\n",
       "  <tbody>\n",
       "    <tr>\n",
       "      <td>8</td>\n",
       "      <td>2020-05-03 18:30:00</td>\n",
       "      <td>84</td>\n",
       "    </tr>\n",
       "    <tr>\n",
       "      <td>9</td>\n",
       "      <td>2020-05-03 18:45:00</td>\n",
       "      <td>112</td>\n",
       "    </tr>\n",
       "    <tr>\n",
       "      <td>10</td>\n",
       "      <td>2020-05-03 19:00:00</td>\n",
       "      <td>71</td>\n",
       "    </tr>\n",
       "    <tr>\n",
       "      <td>11</td>\n",
       "      <td>2020-05-03 19:15:00</td>\n",
       "      <td>82</td>\n",
       "    </tr>\n",
       "    <tr>\n",
       "      <td>12</td>\n",
       "      <td>2020-05-03 19:30:00</td>\n",
       "      <td>56</td>\n",
       "    </tr>\n",
       "    <tr>\n",
       "      <td>13</td>\n",
       "      <td>2020-05-03 19:45:00</td>\n",
       "      <td>58</td>\n",
       "    </tr>\n",
       "    <tr>\n",
       "      <td>14</td>\n",
       "      <td>2020-05-03 20:00:00</td>\n",
       "      <td>54</td>\n",
       "    </tr>\n",
       "    <tr>\n",
       "      <td>15</td>\n",
       "      <td>2020-05-03 20:15:00</td>\n",
       "      <td>58</td>\n",
       "    </tr>\n",
       "    <tr>\n",
       "      <td>16</td>\n",
       "      <td>2020-05-03 20:30:00</td>\n",
       "      <td>37</td>\n",
       "    </tr>\n",
       "  </tbody>\n",
       "</table>\n",
       "</div>"
      ],
      "text/plain": [
       "         time interval  calls\n",
       "8  2020-05-03 18:30:00     84\n",
       "9  2020-05-03 18:45:00    112\n",
       "10 2020-05-03 19:00:00     71\n",
       "11 2020-05-03 19:15:00     82\n",
       "12 2020-05-03 19:30:00     56\n",
       "13 2020-05-03 19:45:00     58\n",
       "14 2020-05-03 20:00:00     54\n",
       "15 2020-05-03 20:15:00     58\n",
       "16 2020-05-03 20:30:00     37"
      ]
     },
     "execution_count": 34,
     "metadata": {},
     "output_type": "execute_result"
    }
   ],
   "source": [
    "derecho_peak"
   ]
  },
  {
   "cell_type": "code",
   "execution_count": 45,
   "metadata": {},
   "outputs": [],
   "source": [
    "# examine the reasons why there are spikes of changes in calls between 6:30 and 8:30 pm\n",
    "incident_counts = derecho_dispatch['IncidentTypeDescription1'].value_counts()"
   ]
  },
  {
   "cell_type": "code",
   "execution_count": 46,
   "metadata": {},
   "outputs": [
    {
     "data": {
      "text/plain": [
       "ELECTRICAL HAZARD                              370\n",
       "GENERAL ALARM COMMERCIAL   INDUSTRIAL BUILD     23\n",
       "MVA INJURIES:                                    8\n",
       "SMALL BUILDING INVESTIGATION                     6\n",
       "CARBON MONOXIDE ALARM HOUSE                      6\n",
       "                                              ... \n",
       "CITIZEN ASSIST MEDICAL ASSISTANCE                1\n",
       "WATER PROBLEM WITH ELECTRICAL HAZARD             1\n",
       "OTHER PAIN                                       1\n",
       "INEFFECTIVE BREATHING COPD                       1\n",
       "HIGH RISK COMPLICATIONS                          1\n",
       "Name: IncidentTypeDescription1, Length: 122, dtype: int64"
      ]
     },
     "execution_count": 46,
     "metadata": {},
     "output_type": "execute_result"
    }
   ],
   "source": [
    "#electrical hazard is the most dispatched incident with 370 dispatches\n",
    "incident_counts"
   ]
  },
  {
   "cell_type": "code",
   "execution_count": 47,
   "metadata": {},
   "outputs": [],
   "source": [
    "#slice electrical hazard cases and check time occured\n",
    "derecho_elctrical_dispatch = derecho_dispatch[derecho_dispatch['IncidentTypeDescription1'].str.contains(\"ELECTRICAL\")]"
   ]
  },
  {
   "cell_type": "code",
   "execution_count": 49,
   "metadata": {},
   "outputs": [],
   "source": [
    "#group electrical incident by time\n",
    "derecho_elctrical_dispatch_time = derecho_elctrical_dispatch['IncidentDate'].value_counts()"
   ]
  },
  {
   "cell_type": "code",
   "execution_count": 50,
   "metadata": {},
   "outputs": [
    {
     "data": {
      "text/plain": [
       "5/3/2020 9:39:26 PM    2\n",
       "5/3/2020 7:44:25 PM    2\n",
       "5/3/2020 5:48:38 PM    2\n",
       "5/3/2020 5:25:14 PM    2\n",
       "5/3/2020 7:16:05 PM    2\n",
       "                      ..\n",
       "5/3/2020 4:37:30 PM    1\n",
       "5/3/2020 4:45:51 PM    1\n",
       "5/3/2020 5:54:09 PM    1\n",
       "5/3/2020 8:12:15 PM    1\n",
       "5/3/2020 5:54:44 PM    1\n",
       "Name: IncidentDate, Length: 363, dtype: int64"
      ]
     },
     "execution_count": 50,
     "metadata": {},
     "output_type": "execute_result"
    }
   ],
   "source": [
    "derecho_elctrical_dispatch_time"
   ]
  },
  {
   "cell_type": "code",
   "execution_count": 52,
   "metadata": {},
   "outputs": [],
   "source": [
    "#change series of electrical dispatch incident counts by time to dataframe\n",
    "derecho_electrical = pd.DataFrame({'incident time':derecho_elctrical_dispatch_time.index, 'incident counts':derecho_elctrical_dispatch_time.values})\n"
   ]
  },
  {
   "cell_type": "code",
   "execution_count": 60,
   "metadata": {},
   "outputs": [
    {
     "name": "stdout",
     "output_type": "stream",
     "text": [
      "<class 'pandas.core.frame.DataFrame'>\n",
      "RangeIndex: 363 entries, 0 to 362\n",
      "Data columns (total 2 columns):\n",
      "incident time      363 non-null object\n",
      "incident counts    363 non-null int64\n",
      "dtypes: int64(1), object(1)\n",
      "memory usage: 5.8+ KB\n"
     ]
    }
   ],
   "source": [
    "derecho_electrical.info()"
   ]
  },
  {
   "cell_type": "code",
   "execution_count": 61,
   "metadata": {},
   "outputs": [],
   "source": [
    "derecho_electrical['incident time'] = pd.to_datetime(derecho_electrical['incident time'])"
   ]
  },
  {
   "cell_type": "code",
   "execution_count": 63,
   "metadata": {},
   "outputs": [
    {
     "data": {
      "text/html": [
       "<div>\n",
       "<style scoped>\n",
       "    .dataframe tbody tr th:only-of-type {\n",
       "        vertical-align: middle;\n",
       "    }\n",
       "\n",
       "    .dataframe tbody tr th {\n",
       "        vertical-align: top;\n",
       "    }\n",
       "\n",
       "    .dataframe thead th {\n",
       "        text-align: right;\n",
       "    }\n",
       "</style>\n",
       "<table border=\"1\" class=\"dataframe\">\n",
       "  <thead>\n",
       "    <tr style=\"text-align: right;\">\n",
       "      <th></th>\n",
       "      <th>incident time</th>\n",
       "      <th>incident counts</th>\n",
       "    </tr>\n",
       "  </thead>\n",
       "  <tbody>\n",
       "    <tr>\n",
       "      <td>142</td>\n",
       "      <td>2020-05-03 16:31:07</td>\n",
       "      <td>1</td>\n",
       "    </tr>\n",
       "    <tr>\n",
       "      <td>91</td>\n",
       "      <td>2020-05-03 16:32:18</td>\n",
       "      <td>1</td>\n",
       "    </tr>\n",
       "    <tr>\n",
       "      <td>44</td>\n",
       "      <td>2020-05-03 16:33:52</td>\n",
       "      <td>1</td>\n",
       "    </tr>\n",
       "    <tr>\n",
       "      <td>231</td>\n",
       "      <td>2020-05-03 16:33:53</td>\n",
       "      <td>1</td>\n",
       "    </tr>\n",
       "    <tr>\n",
       "      <td>250</td>\n",
       "      <td>2020-05-03 16:34:19</td>\n",
       "      <td>1</td>\n",
       "    </tr>\n",
       "    <tr>\n",
       "      <td>...</td>\n",
       "      <td>...</td>\n",
       "      <td>...</td>\n",
       "    </tr>\n",
       "    <tr>\n",
       "      <td>333</td>\n",
       "      <td>2020-05-03 23:50:16</td>\n",
       "      <td>1</td>\n",
       "    </tr>\n",
       "    <tr>\n",
       "      <td>29</td>\n",
       "      <td>2020-05-03 23:58:29</td>\n",
       "      <td>1</td>\n",
       "    </tr>\n",
       "    <tr>\n",
       "      <td>323</td>\n",
       "      <td>2020-05-03 23:59:51</td>\n",
       "      <td>1</td>\n",
       "    </tr>\n",
       "    <tr>\n",
       "      <td>246</td>\n",
       "      <td>2020-05-04 00:09:25</td>\n",
       "      <td>1</td>\n",
       "    </tr>\n",
       "    <tr>\n",
       "      <td>32</td>\n",
       "      <td>2020-05-04 00:22:47</td>\n",
       "      <td>1</td>\n",
       "    </tr>\n",
       "  </tbody>\n",
       "</table>\n",
       "<p>363 rows × 2 columns</p>\n",
       "</div>"
      ],
      "text/plain": [
       "          incident time  incident counts\n",
       "142 2020-05-03 16:31:07                1\n",
       "91  2020-05-03 16:32:18                1\n",
       "44  2020-05-03 16:33:52                1\n",
       "231 2020-05-03 16:33:53                1\n",
       "250 2020-05-03 16:34:19                1\n",
       "..                  ...              ...\n",
       "333 2020-05-03 23:50:16                1\n",
       "29  2020-05-03 23:58:29                1\n",
       "323 2020-05-03 23:59:51                1\n",
       "246 2020-05-04 00:09:25                1\n",
       "32  2020-05-04 00:22:47                1\n",
       "\n",
       "[363 rows x 2 columns]"
      ]
     },
     "execution_count": 63,
     "metadata": {},
     "output_type": "execute_result"
    }
   ],
   "source": [
    "derecho_electrical.sort_values('incident time')"
   ]
  },
  {
   "cell_type": "code",
   "execution_count": 72,
   "metadata": {},
   "outputs": [],
   "source": [
    "# slice time between 6:30 to 8:30 pm\n",
    "start_time = '2020-05-03 18:30:00'\n",
    "end_time = '2020-05-03 21:00:00'\n",
    "new_derecho_electrical = derecho_electrical[(derecho_electrical['incident time'] >= start_time) & (derecho_electrical['incident time'] <= end_time)]"
   ]
  },
  {
   "cell_type": "code",
   "execution_count": 75,
   "metadata": {},
   "outputs": [
    {
     "data": {
      "image/png": "[encoded data removed]",
      "text/plain": [
       "<Figure size 1440x1440 with 1 Axes>"
      ]
     },
     "metadata": {
      "needs_background": "light"
     },
     "output_type": "display_data"
    }
   ],
   "source": [
    "# explore distribution using different plots\n",
    "\n",
    "#regplot\n",
    "f, ax = plt.subplots(figsize=(20,20))\n",
    "derecho_electrical_strip = sns.stripplot(x=\"incident counts\", y=\"incident time\", data= new_derecho_electrical, ax=ax)"
   ]
  },
  {
   "cell_type": "code",
   "execution_count": 85,
   "metadata": {},
   "outputs": [
    {
     "data": {
      "text/plain": [
       "<matplotlib.axes._subplots.AxesSubplot at 0x2abd0879ec8>"
      ]
     },
     "execution_count": 85,
     "metadata": {},
     "output_type": "execute_result"
    },
    {
     "data": {
      "image/png": "[encoded data removed]",
      "text/plain": [
       "<Figure size 2160x1080 with 1 Axes>"
      ]
     },
     "metadata": {
      "needs_background": "light"
     },
     "output_type": "display_data"
    }
   ],
   "source": [
    "# above plot shows many calls cluster together with incident call '1' at similar time\n",
    "f, ax = plt.subplots(figsize=(30,15))\n",
    "\n",
    "\n",
    "#incidents cluster more in earlier evening \n",
    "derecho_electrical.plot(x='incident time', y='incident counts', ax=ax)"
   ]
  },
  {
   "cell_type": "code",
   "execution_count": 87,
   "metadata": {},
   "outputs": [
    {
     "data": {
      "text/plain": [
       "<matplotlib.axes._subplots.AxesSubplot at 0x2abd0d2a588>"
      ]
     },
     "execution_count": 87,
     "metadata": {},
     "output_type": "execute_result"
    },
    {
     "data": {
      "image/png": "[encoded data removed]",
      "text/plain": [
       "<Figure size 2160x1080 with 1 Axes>"
      ]
     },
     "metadata": {
      "needs_background": "light"
     },
     "output_type": "display_data"
    }
   ],
   "source": [
    "# look at only at earlier evening\n",
    "f, ax = plt.subplots(figsize=(30,15))\n",
    "new_derecho_electrical.plot(x='incident time', y='incident counts', ax=ax)"
   ]
  },
  {
   "cell_type": "code",
   "execution_count": 95,
   "metadata": {},
   "outputs": [
    {
     "data": {
      "text/html": [
       "<div>\n",
       "<style scoped>\n",
       "    .dataframe tbody tr th:only-of-type {\n",
       "        vertical-align: middle;\n",
       "    }\n",
       "\n",
       "    .dataframe tbody tr th {\n",
       "        vertical-align: top;\n",
       "    }\n",
       "\n",
       "    .dataframe thead th {\n",
       "        text-align: right;\n",
       "    }\n",
       "</style>\n",
       "<table border=\"1\" class=\"dataframe\">\n",
       "  <thead>\n",
       "    <tr style=\"text-align: right;\">\n",
       "      <th></th>\n",
       "      <th>Seizure DateTime</th>\n",
       "      <th>CallTypeId</th>\n",
       "      <th>ALI Latitude</th>\n",
       "      <th>ALI Longitude</th>\n",
       "      <th>Cell Tower Address</th>\n",
       "    </tr>\n",
       "  </thead>\n",
       "  <tbody>\n",
       "    <tr>\n",
       "      <td>0</td>\n",
       "      <td>2020-05-03 16:30:00</td>\n",
       "      <td>911 Calls</td>\n",
       "      <td>36.247802</td>\n",
       "      <td>-86.716847</td>\n",
       "      <td>WIRELESS CALLER</td>\n",
       "    </tr>\n",
       "    <tr>\n",
       "      <td>1</td>\n",
       "      <td>2020-05-03 16:30:00</td>\n",
       "      <td>911 Calls</td>\n",
       "      <td>36.143108</td>\n",
       "      <td>-86.800621</td>\n",
       "      <td>1161 21ST AV S - SE</td>\n",
       "    </tr>\n",
       "    <tr>\n",
       "      <td>2</td>\n",
       "      <td>2020-05-03 16:30:00</td>\n",
       "      <td>911 Calls</td>\n",
       "      <td>36.100516</td>\n",
       "      <td>-87.056329</td>\n",
       "      <td>8013 C MCCRORY LN - N</td>\n",
       "    </tr>\n",
       "    <tr>\n",
       "      <td>3</td>\n",
       "      <td>2020-05-03 16:30:00</td>\n",
       "      <td>911 Calls</td>\n",
       "      <td>36.130021</td>\n",
       "      <td>-86.927819</td>\n",
       "      <td>5758 RIVER RD - SW</td>\n",
       "    </tr>\n",
       "    <tr>\n",
       "      <td>4</td>\n",
       "      <td>2020-05-03 16:31:00</td>\n",
       "      <td>911 Calls</td>\n",
       "      <td>36.142380</td>\n",
       "      <td>-86.881882</td>\n",
       "      <td>3744B ANNEX AVE - SE</td>\n",
       "    </tr>\n",
       "    <tr>\n",
       "      <td>...</td>\n",
       "      <td>...</td>\n",
       "      <td>...</td>\n",
       "      <td>...</td>\n",
       "      <td>...</td>\n",
       "      <td>...</td>\n",
       "    </tr>\n",
       "    <tr>\n",
       "      <td>1543</td>\n",
       "      <td>2020-05-04 00:16:00</td>\n",
       "      <td>911 Calls</td>\n",
       "      <td>36.067911</td>\n",
       "      <td>-86.622970</td>\n",
       "      <td>WIRELESS CALLER</td>\n",
       "    </tr>\n",
       "    <tr>\n",
       "      <td>1544</td>\n",
       "      <td>2020-05-04 00:18:00</td>\n",
       "      <td>911 Calls</td>\n",
       "      <td>36.131694</td>\n",
       "      <td>-86.770535</td>\n",
       "      <td>1823-C 12TH AV - SECTOR SE S</td>\n",
       "    </tr>\n",
       "    <tr>\n",
       "      <td>1545</td>\n",
       "      <td>2020-05-04 00:22:00</td>\n",
       "      <td>911 Calls</td>\n",
       "      <td>36.042237</td>\n",
       "      <td>-86.743455</td>\n",
       "      <td>5244-C EDMONSON PIKE - SECTOR SE</td>\n",
       "    </tr>\n",
       "    <tr>\n",
       "      <td>1546</td>\n",
       "      <td>2020-05-04 00:25:00</td>\n",
       "      <td>911 Calls</td>\n",
       "      <td>36.077664</td>\n",
       "      <td>-86.655607</td>\n",
       "      <td>2747-B MURFREESBORO PKE - SECTOR NW</td>\n",
       "    </tr>\n",
       "    <tr>\n",
       "      <td>1547</td>\n",
       "      <td>2020-05-04 00:29:00</td>\n",
       "      <td>911 Calls</td>\n",
       "      <td>36.024706</td>\n",
       "      <td>-86.743562</td>\n",
       "      <td>302 SUMMIT VIEW DR - E</td>\n",
       "    </tr>\n",
       "  </tbody>\n",
       "</table>\n",
       "<p>1483 rows × 5 columns</p>\n",
       "</div>"
      ],
      "text/plain": [
       "        Seizure DateTime CallTypeId  ALI Latitude  ALI Longitude  \\\n",
       "0    2020-05-03 16:30:00  911 Calls     36.247802     -86.716847   \n",
       "1    2020-05-03 16:30:00  911 Calls     36.143108     -86.800621   \n",
       "2    2020-05-03 16:30:00  911 Calls     36.100516     -87.056329   \n",
       "3    2020-05-03 16:30:00  911 Calls     36.130021     -86.927819   \n",
       "4    2020-05-03 16:31:00  911 Calls     36.142380     -86.881882   \n",
       "...                  ...        ...           ...            ...   \n",
       "1543 2020-05-04 00:16:00  911 Calls     36.067911     -86.622970   \n",
       "1544 2020-05-04 00:18:00  911 Calls     36.131694     -86.770535   \n",
       "1545 2020-05-04 00:22:00  911 Calls     36.042237     -86.743455   \n",
       "1546 2020-05-04 00:25:00  911 Calls     36.077664     -86.655607   \n",
       "1547 2020-05-04 00:29:00  911 Calls     36.024706     -86.743562   \n",
       "\n",
       "                       Cell Tower Address  \n",
       "0                         WIRELESS CALLER  \n",
       "1                     1161 21ST AV S - SE  \n",
       "2                   8013 C MCCRORY LN - N  \n",
       "3                      5758 RIVER RD - SW  \n",
       "4                    3744B ANNEX AVE - SE  \n",
       "...                                   ...  \n",
       "1543                      WIRELESS CALLER  \n",
       "1544         1823-C 12TH AV - SECTOR SE S  \n",
       "1545     5244-C EDMONSON PIKE - SECTOR SE  \n",
       "1546  2747-B MURFREESBORO PKE - SECTOR NW  \n",
       "1547               302 SUMMIT VIEW DR - E  \n",
       "\n",
       "[1483 rows x 5 columns]"
      ]
     },
     "execution_count": 95,
     "metadata": {},
     "output_type": "execute_result"
    }
   ],
   "source": [
    "# drop nan value as getting errors when trying to get commercial building types\n",
    "derecho_911.dropna()"
   ]
  },
  {
   "cell_type": "code",
   "execution_count": 96,
   "metadata": {},
   "outputs": [
    {
     "ename": "ValueError",
     "evalue": "cannot index with vector containing NA / NaN values",
     "output_type": "error",
     "traceback": [
      "\u001b[1;31m---------------------------------------------------------------------------\u001b[0m",
      "\u001b[1;31mValueError\u001b[0m                                Traceback (most recent call last)",
      "\u001b[1;32m<ipython-input-96-a7580fff7fac>\u001b[0m in \u001b[0;36m<module>\u001b[1;34m\u001b[0m\n\u001b[0;32m      1\u001b[0m \u001b[1;31m# numbers of residential vs commercial buildings\u001b[0m\u001b[1;33m\u001b[0m\u001b[1;33m\u001b[0m\u001b[1;33m\u001b[0m\u001b[0m\n\u001b[1;32m----> 2\u001b[1;33m \u001b[0mderecho_911\u001b[0m\u001b[1;33m[\u001b[0m\u001b[0mderecho_911\u001b[0m\u001b[1;33m[\u001b[0m\u001b[1;34m'Cell Tower Address'\u001b[0m\u001b[1;33m]\u001b[0m\u001b[1;33m.\u001b[0m\u001b[0mstr\u001b[0m\u001b[1;33m.\u001b[0m\u001b[0mcontains\u001b[0m\u001b[1;33m(\u001b[0m\u001b[1;34m\"COMMERCIAL\"\u001b[0m\u001b[1;33m)\u001b[0m\u001b[1;33m]\u001b[0m\u001b[1;33m\u001b[0m\u001b[1;33m\u001b[0m\u001b[0m\n\u001b[0m",
      "\u001b[1;32m~\\Anaconda3\\lib\\site-packages\\pandas\\core\\frame.py\u001b[0m in \u001b[0;36m__getitem__\u001b[1;34m(self, key)\u001b[0m\n\u001b[0;32m   2968\u001b[0m \u001b[1;33m\u001b[0m\u001b[0m\n\u001b[0;32m   2969\u001b[0m         \u001b[1;31m# Do we have a (boolean) 1d indexer?\u001b[0m\u001b[1;33m\u001b[0m\u001b[1;33m\u001b[0m\u001b[1;33m\u001b[0m\u001b[0m\n\u001b[1;32m-> 2970\u001b[1;33m         \u001b[1;32mif\u001b[0m \u001b[0mcom\u001b[0m\u001b[1;33m.\u001b[0m\u001b[0mis_bool_indexer\u001b[0m\u001b[1;33m(\u001b[0m\u001b[0mkey\u001b[0m\u001b[1;33m)\u001b[0m\u001b[1;33m:\u001b[0m\u001b[1;33m\u001b[0m\u001b[1;33m\u001b[0m\u001b[0m\n\u001b[0m\u001b[0;32m   2971\u001b[0m             \u001b[1;32mreturn\u001b[0m \u001b[0mself\u001b[0m\u001b[1;33m.\u001b[0m\u001b[0m_getitem_bool_array\u001b[0m\u001b[1;33m(\u001b[0m\u001b[0mkey\u001b[0m\u001b[1;33m)\u001b[0m\u001b[1;33m\u001b[0m\u001b[1;33m\u001b[0m\u001b[0m\n\u001b[0;32m   2972\u001b[0m \u001b[1;33m\u001b[0m\u001b[0m\n",
      "\u001b[1;32m~\\Anaconda3\\lib\\site-packages\\pandas\\core\\common.py\u001b[0m in \u001b[0;36mis_bool_indexer\u001b[1;34m(key)\u001b[0m\n\u001b[0;32m    128\u001b[0m             \u001b[1;32mif\u001b[0m \u001b[1;32mnot\u001b[0m \u001b[0mlib\u001b[0m\u001b[1;33m.\u001b[0m\u001b[0mis_bool_array\u001b[0m\u001b[1;33m(\u001b[0m\u001b[0mkey\u001b[0m\u001b[1;33m)\u001b[0m\u001b[1;33m:\u001b[0m\u001b[1;33m\u001b[0m\u001b[1;33m\u001b[0m\u001b[0m\n\u001b[0;32m    129\u001b[0m                 \u001b[1;32mif\u001b[0m \u001b[0misna\u001b[0m\u001b[1;33m(\u001b[0m\u001b[0mkey\u001b[0m\u001b[1;33m)\u001b[0m\u001b[1;33m.\u001b[0m\u001b[0many\u001b[0m\u001b[1;33m(\u001b[0m\u001b[1;33m)\u001b[0m\u001b[1;33m:\u001b[0m\u001b[1;33m\u001b[0m\u001b[1;33m\u001b[0m\u001b[0m\n\u001b[1;32m--> 130\u001b[1;33m                     \u001b[1;32mraise\u001b[0m \u001b[0mValueError\u001b[0m\u001b[1;33m(\u001b[0m\u001b[0mna_msg\u001b[0m\u001b[1;33m)\u001b[0m\u001b[1;33m\u001b[0m\u001b[1;33m\u001b[0m\u001b[0m\n\u001b[0m\u001b[0;32m    131\u001b[0m                 \u001b[1;32mreturn\u001b[0m \u001b[1;32mFalse\u001b[0m\u001b[1;33m\u001b[0m\u001b[1;33m\u001b[0m\u001b[0m\n\u001b[0;32m    132\u001b[0m             \u001b[1;32mreturn\u001b[0m \u001b[1;32mTrue\u001b[0m\u001b[1;33m\u001b[0m\u001b[1;33m\u001b[0m\u001b[0m\n",
      "\u001b[1;31mValueError\u001b[0m: cannot index with vector containing NA / NaN values"
     ]
    }
   ],
   "source": [
    "# numbers of residential vs commercial buildings\n",
    "derecho_911[derecho_911['Cell Tower Address'].str.contains(\"COMMERCIAL\")]"
   ]
  },
  {
   "cell_type": "code",
   "execution_count": 92,
   "metadata": {},
   "outputs": [
    {
     "data": {
      "text/plain": [
       "Index(['Seizure DateTime', 'CallTypeId', 'ALI Latitude', 'ALI Longitude',\n",
       "       'Cell Tower Address'],\n",
       "      dtype='object')"
      ]
     },
     "execution_count": 92,
     "metadata": {},
     "output_type": "execute_result"
    }
   ],
   "source": [
    "derecho_911.columns"
   ]
  },
  {
   "cell_type": "code",
   "execution_count": null,
   "metadata": {},
   "outputs": [],
   "source": []
  }
 ],
 "metadata": {
  "kernelspec": {
   "display_name": "Python 3",
   "language": "python",
   "name": "python3"
  },
  "language_info": {
   "codemirror_mode": {
    "name": "ipython",
    "version": 3
   },
   "file_extension": ".py",
   "mimetype": "text/x-python",
   "name": "python",
   "nbconvert_exporter": "python",
   "pygments_lexer": "ipython3",
   "version": "3.7.4"
  }
 },
 "nbformat": 4,
 "nbformat_minor": 2
}
