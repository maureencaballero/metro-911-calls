{
 "cells": [
  {
   "cell_type": "markdown",
   "metadata": {},
   "source": [
    "### Metro 911 Calls Project"
   ]
  },
  {
   "cell_type": "code",
   "execution_count": 24,
   "metadata": {},
   "outputs": [],
   "source": [
    "import pandas as pd\n",
    "import numpy as np\n",
    "import matplotlib.pyplot as plt\n",
    "import seaborn as sns"
   ]
  },
  {
   "cell_type": "code",
   "execution_count": 8,
   "metadata": {},
   "outputs": [],
   "source": [
    "tornado_911 = pd.read_csv('../data/911_Phone_Calls_Tornado_030320.csv')\n",
    "derecho_911 = pd.read_csv('../data/911_Phone Calls_Derecho_050320 050420.csv')\n",
    "tornado_dispatch = pd.read_csv('../data/Computer Aided Dispatch Data_Tornado Incidents 030320.csv', skiprows=2)\n",
    "derecho_dispatch = pd.read_csv('../data/Computer Aided Dispatch Data_Derecho Incidents 050320-050420.csv', skiprows=2)\n",
    "\n"
   ]
  },
  {
   "cell_type": "code",
   "execution_count": 9,
   "metadata": {},
   "outputs": [
    {
     "name": "stdout",
     "output_type": "stream",
     "text": [
      "    Seizure DateTime CallTypeId  ALI Latitude  ALI Longitude  \\\n",
      "0      3/3/2020 0:34  911 Calls     36.072708     -86.665779   \n",
      "1      3/3/2020 0:36  911 Calls     36.159634     -86.841904   \n",
      "2      3/3/2020 0:36  911 Calls     36.264153     -86.708862   \n",
      "3      3/3/2020 0:36  911 Calls           NaN            NaN   \n",
      "4      3/3/2020 0:36  911 Calls     36.233467     -86.721077   \n",
      "..               ...        ...           ...            ...   \n",
      "470    3/3/2020 4:54  911 Calls     36.142552     -86.635330   \n",
      "471    3/3/2020 4:54  911 Calls     36.189415     -86.813557   \n",
      "472    3/3/2020 4:55  911 Calls     36.223534     -86.757874   \n",
      "473    3/3/2020 4:56  911 Calls     36.168398     -86.783774   \n",
      "474    3/3/2020 4:58  911 Calls     36.276566     -86.799417   \n",
      "\n",
      "                    Cell Tower Address  \n",
      "0           620 Richards RD - N Sector  \n",
      "1               4507D KENTUCKY AV - SE  \n",
      "2             329 THELMA ST - S Sector  \n",
      "3                       526 FOUNDRY DR  \n",
      "4                 5007B RUSKIN AVE - N  \n",
      "..                                 ...  \n",
      "470                    WIRELESS CALLER  \n",
      "471                    WIRELESS CALLER  \n",
      "472                    WIRELESS CALLER  \n",
      "473  600 DR MARTIN L KING JR BLVD - NE  \n",
      "474             4884 LICKTON PIKE - SE  \n",
      "\n",
      "[475 rows x 5 columns]\n"
     ]
    }
   ],
   "source": [
    "print(tornado_911\n",
    "     )"
   ]
  },
  {
   "cell_type": "code",
   "execution_count": 22,
   "metadata": {},
   "outputs": [
    {
     "name": "stdout",
     "output_type": "stream",
     "text": [
      "Seizure DateTime\n",
      "2020-03-03 00:30:00    51\n",
      "2020-03-03 00:45:00    46\n",
      "2020-03-03 01:00:00    48\n",
      "2020-03-03 01:15:00    52\n",
      "2020-03-03 01:30:00    52\n",
      "2020-03-03 01:45:00    43\n",
      "2020-03-03 02:00:00    41\n",
      "2020-03-03 02:15:00    22\n",
      "2020-03-03 02:30:00    17\n",
      "2020-03-03 02:45:00     8\n",
      "2020-03-03 03:00:00    13\n",
      "2020-03-03 03:15:00    11\n",
      "2020-03-03 03:30:00    12\n",
      "2020-03-03 03:45:00    12\n",
      "2020-03-03 04:00:00     6\n",
      "2020-03-03 04:15:00    14\n",
      "2020-03-03 04:30:00    17\n",
      "2020-03-03 04:45:00    10\n",
      "Freq: 15T, Name: CallTypeId, dtype: int64\n"
     ]
    }
   ],
   "source": [
    "tornado_911['Seizure DateTime'] = pd.to_datetime(tornado_911['Seizure DateTime'])\n",
    "tornado_plot = tornado_911.resample('15min', on='Seizure DateTime').CallTypeId.count()\n",
    "print(tornado_plot)"
   ]
  },
  {
   "cell_type": "code",
   "execution_count": 36,
   "metadata": {},
   "outputs": [
    {
     "data": {
      "image/png": "[encoded data removed]",
      "text/plain": [
       "<Figure size 432x288 with 1 Axes>"
      ]
     },
     "metadata": {
      "needs_background": "light"
     },
     "output_type": "display_data"
    }
   ],
   "source": [
    "tornado_plot.plot()\n",
    "plt.xlabel('Time')\n",
    "plt.ylabel('Calls')\n",
    "plt.title('911 Calls from 12:30am-4:45am on 3/3/2020')\n",
    "plt.show()"
   ]
  },
  {
   "cell_type": "code",
   "execution_count": null,
   "metadata": {},
   "outputs": [],
   "source": []
  }
 ],
 "metadata": {
  "kernelspec": {
   "display_name": "Python 3",
   "language": "python",
   "name": "python3"
  },
  "language_info": {
   "codemirror_mode": {
    "name": "ipython",
    "version": 3
   },
   "file_extension": ".py",
   "mimetype": "text/x-python",
   "name": "python",
   "nbconvert_exporter": "python",
   "pygments_lexer": "ipython3",
   "version": "3.8.5"
  }
 },
 "nbformat": 4,
 "nbformat_minor": 4
}
